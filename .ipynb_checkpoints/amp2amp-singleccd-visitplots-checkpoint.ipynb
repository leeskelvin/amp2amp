{
 "cells": [
  {
   "cell_type": "markdown",
   "metadata": {},
   "source": [
    "# HSC Amp-to-Amp Offsets\n",
    "\n",
    "## Useful links\n",
    "* [LSKs GitHub Repo](https://github.com/leeskelvin/amp2amp)\n",
    "* [Jira Ticket (DM-20303)](https://jira.lsstcorp.org/browse/DM-20303)\n",
    "* [Dropbox paper: Background Exploration Aug 2018](https://paper.dropbox.com/doc/Background-Exploration-Aug-2018--ApTKzYDGr98X1Dl_UXBp5iGGAg-62Gc0Msel3yCa6VEtRVy7)\n",
    "* [Eli's original analysis code](https://raw.githubusercontent.com/leeskelvin/amp2amp/master/ref/compute_and_plot_amp_offsets_pdr1_perpix4.py)\n",
    "* [Eli's presentation: HSC Background Offsets: What's Up With That?](https://github.com/leeskelvin/amp2amp/blob/master/ref/hsc_background_offsets.pdf)\n",
    "* [Boone et al. 2018](https://github.com/leeskelvin/amp2amp/blob/master/ref/Boone2018::2018PASP..130f4504B.pdf)"
   ]
  },
  {
   "cell_type": "code",
   "execution_count": 1,
   "metadata": {},
   "outputs": [],
   "source": [
    "# output options\n",
    "ccd = 43\n",
    "outdir = 'singleccd-visitplots'\n",
    "\n",
    "# band selection [all|g|r|i|z|y]\n",
    "band = 'all'\n",
    "if band == 'all':\n",
    "    bandname = 'grizy'\n",
    "else:\n",
    "    bandname = band"
   ]
  },
  {
   "cell_type": "markdown",
   "metadata": {},
   "source": [
    "<h2>HSC CCD Arrangement</h2>\n",
    "<h3 style=\"margin-top:10px; margin-bottom:25px;\"><a href=\"https://subarutelescope.org/Observing/Instruments/HSC/ccd.html\">https://subarutelescope.org/Observing/Instruments/HSC/ccd.html</a></h3>\n",
    "<div style=\"width:700px; height:525px;\"><img style=\"max-width:100%; max-height:100%;\" src=\"ref/CCDPosition_20170212.png\" alt=\"HSC CCDs\"></div>"
   ]
  },
  {
   "cell_type": "code",
   "execution_count": 54,
   "metadata": {},
   "outputs": [],
   "source": [
    "# imports\n",
    "import numpy as np\n",
    "import matplotlib.pyplot as plt\n",
    "import matplotlib.patches as mpatches\n",
    "import matplotlib.patheffects as PathEffects\n",
    "import matplotlib.gridspec as gridspec\n",
    "import astropy.io.fits as fits\n",
    "import esutil\n",
    "import os.path\n",
    "from astropy.time import Time\n",
    "\n",
    "import lsst.afw.math as afwMath\n",
    "import lsst.daf.persistence as dafPersist"
   ]
  },
  {
   "cell_type": "code",
   "execution_count": 3,
   "metadata": {},
   "outputs": [],
   "source": [
    "# setup\n",
    "if (not os.path.exists(outdir)):\n",
    "    os.mkdir(outdir)"
   ]
  },
  {
   "cell_type": "code",
   "execution_count": 4,
   "metadata": {},
   "outputs": [],
   "source": [
    "# butler\n",
    "butlerVisit = dafPersist.Butler(\n",
    "    '/datasets/hsc/repo/rerun/private/erykoff/fgcm_pdr1_run1wd/wide_deep2'\n",
    ")\n",
    "obsTable = butlerVisit.get(\n",
    "    'fgcmVisitCatalog'\n",
    ")\n",
    "butler = dafPersist.Butler(\n",
    "    '/datasets/hsc/repo/rerun/private/erykoff/hscproc/runIsrPDR1'\n",
    ")"
   ]
  },
  {
   "cell_type": "code",
   "execution_count": 5,
   "metadata": {},
   "outputs": [],
   "source": [
    "# define amps\n",
    "camera = butler.get('camera')\n",
    "det = camera[ccd]\n",
    "amp1, amp2, amp3, amp4 = det.getAmplifiers()"
   ]
  },
  {
   "cell_type": "code",
   "execution_count": 6,
   "metadata": {},
   "outputs": [],
   "source": [
    "# raw data bounding boxes\n",
    "dbox1 = amp1.getRawDataBBox()\n",
    "dbox2 = amp2.getRawDataBBox()\n",
    "dbox3 = amp3.getRawDataBBox()\n",
    "dbox4 = amp4.getRawDataBBox()"
   ]
  },
  {
   "cell_type": "code",
   "execution_count": 7,
   "metadata": {},
   "outputs": [],
   "source": [
    "# horizontal overscan bounding boxes\n",
    "obox1 = amp1.getRawHorizontalOverscanBBox()\n",
    "obox2 = amp2.getRawHorizontalOverscanBBox()\n",
    "obox3 = amp3.getRawHorizontalOverscanBBox()\n",
    "obox4 = amp4.getRawHorizontalOverscanBBox()"
   ]
  },
  {
   "cell_type": "code",
   "execution_count": 8,
   "metadata": {
    "scrolled": false
   },
   "outputs": [
    {
     "name": "stdout",
     "output_type": "stream",
     "text": [
      "\u001b[1m\n",
      "Number of visits: 5190\n",
      "Number of visits by filter: {'g': 1030, 'i': 1041, 'r': 925, 'y': 1032, 'z': 1162}\n",
      "Number of pixel rows: 4176\n",
      "Exposure time range: [ 30 : 270 ]\n",
      "Sky background range: [ 56.01 : 14375.22 ]\n",
      "Date of Obs. range: [ 2014.23 : 2015.87 ]\n",
      "\u001b[0m\n"
     ]
    }
   ],
   "source": [
    "# obsTable data\n",
    "filtername = [d['filtername'] for d in np.asarray(obsTable)]\n",
    "if band != 'all': \n",
    "    goodfilters = [i for i,s in enumerate(filtername) if band in s]\n",
    "    filtername = np.asarray(filtername)[goodfilters]\n",
    "else: \n",
    "    goodfilters = range(len(filtername))\n",
    "visits = obsTable['visit'][goodfilters]\n",
    "exptime = obsTable['exptime'][goodfilters]\n",
    "skybackground = obsTable['skybackground'][goodfilters]\n",
    "mjd = obsTable['mjd'][goodfilters]\n",
    "t = Time(mjd, format=\"mjd\")\n",
    "obsdate = t.decimalyear\n",
    "ufname,ufcount = np.unique(filtername, return_counts=True)\n",
    "print('\\033[1m')\n",
    "print('Number of visits:', visits.size)\n",
    "print('Number of visits by filter:', dict(zip(ufname,ufcount)))\n",
    "print('Number of pixel rows:', dbox1.getHeight())\n",
    "print('Exposure time range:', '[', \"%.0f\" % np.min(exptime), ':', \"%.0f\" % np.max(exptime), ']')\n",
    "print('Sky background range:', '[', \"%.2f\" % np.min(skybackground), ':', \"%.2f\" % np.max(skybackground), ']')\n",
    "print('Date of Obs. range:', '[', \"%.2f\" % np.min(obsdate), ':', \"%.2f\" % np.max(obsdate), ']')\n",
    "print('\\033[0m')"
   ]
  },
  {
   "cell_type": "code",
   "execution_count": 22,
   "metadata": {},
   "outputs": [],
   "source": [
    "# image of CCD data regions for single visit\n",
    "\n",
    "# setup\n",
    "scale = 2 # number of stdevs/madevs to plot either side\n",
    "\n",
    "# function to rebin 2D array\n",
    "def rebin(arr, new_shape):\n",
    "    shape = (int(new_shape[0]), arr.shape[0] // int(new_shape[0]),\n",
    "             int(new_shape[1]), arr.shape[1] // int(new_shape[1]))\n",
    "    return arr.reshape(shape).mean(-1).mean(1)\n",
    "\n",
    "# median absolute deviation\n",
    "def mad(x, k = 1.4826):\n",
    "    return k * np.median(np.abs(x - np.median(x)))\n",
    "\n",
    "# loop\n",
    "for imvisit, imfilter in zip(visits[0:100], filtername[0:100]):\n",
    "\n",
    "    # setup\n",
    "    doutname = '%s/ccd%03d_visit%s_%s_data.png' % (outdir, ccd, imvisit, imfilter)\n",
    "    \n",
    "    if (not os.path.exists(doutname)):\n",
    "\n",
    "        # butler\n",
    "        raw = butler.get('raw', visit=int(imvisit), ccd=ccd)\n",
    "\n",
    "        # get image/mask/variance map for each data region (converted to int64)\n",
    "        data1 = raw.maskedImage[dbox1].getArrays()[0].astype(np.int64)\n",
    "        data2 = raw.maskedImage[dbox2].getArrays()[0].astype(np.int64)\n",
    "        data3 = raw.maskedImage[dbox3].getArrays()[0].astype(np.int64)\n",
    "        data4 = raw.maskedImage[dbox4].getArrays()[0].astype(np.int64)\n",
    "\n",
    "        # rebin, log, subtract mean/median, rescale to std/mad, and rotate\n",
    "        downscale = 4\n",
    "        mdata = []\n",
    "        for data in [data1, data2, data3, data4]:\n",
    "            md = np.log10(rebin(data, new_shape=tuple(np.array(data.shape)/downscale)))\n",
    "            #md -= np.mean(md)\n",
    "            #md /= np.std(md)\n",
    "            md -= np.median(md)\n",
    "            md /= mad(md)\n",
    "            md = np.rot90(md)\n",
    "            mdata.append(md)\n",
    "\n",
    "        # plotting\n",
    "        fig, axs = plt.subplots(4, sharex=True, sharey=True, figsize=(13,6), dpi=300)\n",
    "        for i, md, ampid, d in zip([0,1,2,3], [mdata[3],mdata[2],mdata[1],mdata[0]], [4,3,2,1], \n",
    "                                   [data4, data3, data2, data1]):\n",
    "            im = axs[i].imshow(md, vmin=-scale, vmax=scale)\n",
    "            axs[i].set_axis_off()\n",
    "            axs[i].text(4296/downscale, 200/downscale, \"amp %s\" % ampid, rotation=-90)\n",
    "            axs[i].text(4196/downscale, 100/downscale, \"med = %.0f\" % np.median(d), rotation=-90)\n",
    "        fig.text(0.35, 0.92, \"CCD %s data: visit %s, filter %s\" % (ccd, imvisit, imfilter), fontsize=14)\n",
    "        fig.text(0.4, 0.05, \"y pixel position / %s\" % downscale, fontsize=14)\n",
    "        fig.text(0.08, 0.6, \"x pixel position / %s\" % downscale, rotation=90, fontsize=14)\n",
    "        fig.text(0.84, 0.65, \"MAD offset from median\", rotation=-90, fontsize=14)\n",
    "        fig.colorbar(im, ax=axs.ravel().tolist())\n",
    "        plt.savefig(doutname, dpi=300)\n",
    "        plt.close(fig)\n",
    "    \n",
    "    # setup\n",
    "    ooutname = '%s/ccd%03d_visit%s_%s_overscan.png' % (outdir, ccd, imvisit, imfilter)\n",
    "    \n",
    "    if (not os.path.exists(ooutname)):\n",
    "\n",
    "        # butler\n",
    "        raw = butler.get('raw', visit=int(imvisit), ccd=ccd)\n",
    "\n",
    "        # get image/mask/variance map for each horizontal overscan region (converted to int64)\n",
    "        overscan1 = raw.maskedImage[obox1].getArrays()[0].astype(np.int64)\n",
    "        overscan2 = raw.maskedImage[obox2].getArrays()[0].astype(np.int64)\n",
    "        overscan3 = raw.maskedImage[obox3].getArrays()[0].astype(np.int64)\n",
    "        overscan4 = raw.maskedImage[obox4].getArrays()[0].astype(np.int64)\n",
    "\n",
    "        # rebin, log(?), subtract mean/median, rescale to std/mad, and rotate\n",
    "        downscale = 24\n",
    "        moverscan = []\n",
    "        for overscan in [overscan1, overscan2, overscan3, overscan4]:\n",
    "            md = rebin(overscan, new_shape=(np.array(overscan.shape)[0]/downscale, \n",
    "                                                     np.array(overscan.shape)[1])\n",
    "                      )\n",
    "            #md -= np.mean(md)\n",
    "            #md /= np.std(md)\n",
    "            md -= np.median(md)\n",
    "            md /= mad(md)\n",
    "            md = np.rot90(md)\n",
    "            moverscan.append(md)\n",
    "\n",
    "        # plotting\n",
    "        fig, axs = plt.subplots(4, sharex=True, sharey=True, figsize=(13,6), dpi=300)\n",
    "        for i, md, ampid, d in zip([0,1,2,3], [moverscan[3],moverscan[2],moverscan[1],moverscan[0]], \n",
    "                                   [4,3,2,1], [overscan4, overscan3, overscan2, overscan1]):\n",
    "            im = axs[i].imshow(md, vmin=-scale, vmax=scale)\n",
    "            axs[i].set_axis_off()\n",
    "            axs[i].text(4296/downscale, 6, \"amp %s\" % ampid, rotation=-90)\n",
    "            axs[i].text(4196/downscale, 1, \"med = %.0f\" % np.median(d), rotation=-90)\n",
    "        fig.text(0.35, 0.92, \"CCD %s overscan: visit %s, filter %s\" % (ccd, imvisit, imfilter), fontsize=14)\n",
    "        fig.text(0.4, 0.05, \"y pixel position / %s\" % downscale, fontsize=14)\n",
    "        fig.text(0.08, 0.6, \"x pixel position\", rotation=90, fontsize=14)\n",
    "        fig.text(0.84, 0.65, \"MAD offset from median\", rotation=-90, fontsize=14)\n",
    "        fig.colorbar(im, ax=axs.ravel().tolist())\n",
    "        plt.savefig(ooutname, dpi=300)\n",
    "        plt.close(fig)"
   ]
  },
  {
   "cell_type": "code",
   "execution_count": 31,
   "metadata": {},
   "outputs": [
    {
     "data": {
      "text/plain": [
       "array([1442, 1441, 1441, ..., 1441, 1441, 1441])"
      ]
     },
     "execution_count": 31,
     "metadata": {},
     "output_type": "execute_result"
    }
   ],
   "source": [
    "        cat['overscan1'][i, :, 0] = overscan1[:, 0]\n",
    "        cat['overscan1'][i, :, 1] = overscan1[:, -1]\n",
    "        cat['overscan2'][i, :, 0] = overscan2[:, -1]\n",
    "        cat['overscan2'][i, :, 1] = overscan2[:, 0]\n",
    "        cat['overscan3'][i, :, 0] = overscan3[:, 0]\n",
    "        cat['overscan3'][i, :, 1] = overscan3[:, -1]\n",
    "        cat['overscan4'][i, :, 0] = overscan4[:, -1]\n",
    "        cat['overscan4'][i, :, 1] = overscan4[:, 0]"
   ]
  },
  {
   "cell_type": "code",
   "execution_count": 61,
   "metadata": {},
   "outputs": [
    {
     "ename": "ValueError",
     "evalue": "Image size of 541303x2319 pixels is too large. It must be less than 2^16 in each direction.",
     "output_type": "error",
     "traceback": [
      "\u001b[0;31m---------------------------------------------------------------------------\u001b[0m",
      "\u001b[0;31mValueError\u001b[0m                                Traceback (most recent call last)",
      "\u001b[0;32m/software/lsstsw/stack_20191101/python/miniconda3-4.5.12/envs/lsst-scipipe/lib/python3.7/site-packages/IPython/core/formatters.py\u001b[0m in \u001b[0;36m__call__\u001b[0;34m(self, obj)\u001b[0m\n\u001b[1;32m    339\u001b[0m                 \u001b[0;32mpass\u001b[0m\u001b[0;34m\u001b[0m\u001b[0;34m\u001b[0m\u001b[0m\n\u001b[1;32m    340\u001b[0m             \u001b[0;32melse\u001b[0m\u001b[0;34m:\u001b[0m\u001b[0;34m\u001b[0m\u001b[0;34m\u001b[0m\u001b[0m\n\u001b[0;32m--> 341\u001b[0;31m                 \u001b[0;32mreturn\u001b[0m \u001b[0mprinter\u001b[0m\u001b[0;34m(\u001b[0m\u001b[0mobj\u001b[0m\u001b[0;34m)\u001b[0m\u001b[0;34m\u001b[0m\u001b[0;34m\u001b[0m\u001b[0m\n\u001b[0m\u001b[1;32m    342\u001b[0m             \u001b[0;31m# Finally look for special method names\u001b[0m\u001b[0;34m\u001b[0m\u001b[0;34m\u001b[0m\u001b[0;34m\u001b[0m\u001b[0m\n\u001b[1;32m    343\u001b[0m             \u001b[0mmethod\u001b[0m \u001b[0;34m=\u001b[0m \u001b[0mget_real_method\u001b[0m\u001b[0;34m(\u001b[0m\u001b[0mobj\u001b[0m\u001b[0;34m,\u001b[0m \u001b[0mself\u001b[0m\u001b[0;34m.\u001b[0m\u001b[0mprint_method\u001b[0m\u001b[0;34m)\u001b[0m\u001b[0;34m\u001b[0m\u001b[0;34m\u001b[0m\u001b[0m\n",
      "\u001b[0;32m/software/lsstsw/stack_20191101/python/miniconda3-4.5.12/envs/lsst-scipipe/lib/python3.7/site-packages/IPython/core/pylabtools.py\u001b[0m in \u001b[0;36m<lambda>\u001b[0;34m(fig)\u001b[0m\n\u001b[1;32m    242\u001b[0m \u001b[0;34m\u001b[0m\u001b[0m\n\u001b[1;32m    243\u001b[0m     \u001b[0;32mif\u001b[0m \u001b[0;34m'png'\u001b[0m \u001b[0;32min\u001b[0m \u001b[0mformats\u001b[0m\u001b[0;34m:\u001b[0m\u001b[0;34m\u001b[0m\u001b[0;34m\u001b[0m\u001b[0m\n\u001b[0;32m--> 244\u001b[0;31m         \u001b[0mpng_formatter\u001b[0m\u001b[0;34m.\u001b[0m\u001b[0mfor_type\u001b[0m\u001b[0;34m(\u001b[0m\u001b[0mFigure\u001b[0m\u001b[0;34m,\u001b[0m \u001b[0;32mlambda\u001b[0m \u001b[0mfig\u001b[0m\u001b[0;34m:\u001b[0m \u001b[0mprint_figure\u001b[0m\u001b[0;34m(\u001b[0m\u001b[0mfig\u001b[0m\u001b[0;34m,\u001b[0m \u001b[0;34m'png'\u001b[0m\u001b[0;34m,\u001b[0m \u001b[0;34m**\u001b[0m\u001b[0mkwargs\u001b[0m\u001b[0;34m)\u001b[0m\u001b[0;34m)\u001b[0m\u001b[0;34m\u001b[0m\u001b[0;34m\u001b[0m\u001b[0m\n\u001b[0m\u001b[1;32m    245\u001b[0m     \u001b[0;32mif\u001b[0m \u001b[0;34m'retina'\u001b[0m \u001b[0;32min\u001b[0m \u001b[0mformats\u001b[0m \u001b[0;32mor\u001b[0m \u001b[0;34m'png2x'\u001b[0m \u001b[0;32min\u001b[0m \u001b[0mformats\u001b[0m\u001b[0;34m:\u001b[0m\u001b[0;34m\u001b[0m\u001b[0;34m\u001b[0m\u001b[0m\n\u001b[1;32m    246\u001b[0m         \u001b[0mpng_formatter\u001b[0m\u001b[0;34m.\u001b[0m\u001b[0mfor_type\u001b[0m\u001b[0;34m(\u001b[0m\u001b[0mFigure\u001b[0m\u001b[0;34m,\u001b[0m \u001b[0;32mlambda\u001b[0m \u001b[0mfig\u001b[0m\u001b[0;34m:\u001b[0m \u001b[0mretina_figure\u001b[0m\u001b[0;34m(\u001b[0m\u001b[0mfig\u001b[0m\u001b[0;34m,\u001b[0m \u001b[0;34m**\u001b[0m\u001b[0mkwargs\u001b[0m\u001b[0;34m)\u001b[0m\u001b[0;34m)\u001b[0m\u001b[0;34m\u001b[0m\u001b[0;34m\u001b[0m\u001b[0m\n",
      "\u001b[0;32m/software/lsstsw/stack_20191101/python/miniconda3-4.5.12/envs/lsst-scipipe/lib/python3.7/site-packages/IPython/core/pylabtools.py\u001b[0m in \u001b[0;36mprint_figure\u001b[0;34m(fig, fmt, bbox_inches, **kwargs)\u001b[0m\n\u001b[1;32m    126\u001b[0m \u001b[0;34m\u001b[0m\u001b[0m\n\u001b[1;32m    127\u001b[0m     \u001b[0mbytes_io\u001b[0m \u001b[0;34m=\u001b[0m \u001b[0mBytesIO\u001b[0m\u001b[0;34m(\u001b[0m\u001b[0;34m)\u001b[0m\u001b[0;34m\u001b[0m\u001b[0;34m\u001b[0m\u001b[0m\n\u001b[0;32m--> 128\u001b[0;31m     \u001b[0mfig\u001b[0m\u001b[0;34m.\u001b[0m\u001b[0mcanvas\u001b[0m\u001b[0;34m.\u001b[0m\u001b[0mprint_figure\u001b[0m\u001b[0;34m(\u001b[0m\u001b[0mbytes_io\u001b[0m\u001b[0;34m,\u001b[0m \u001b[0;34m**\u001b[0m\u001b[0mkw\u001b[0m\u001b[0;34m)\u001b[0m\u001b[0;34m\u001b[0m\u001b[0;34m\u001b[0m\u001b[0m\n\u001b[0m\u001b[1;32m    129\u001b[0m     \u001b[0mdata\u001b[0m \u001b[0;34m=\u001b[0m \u001b[0mbytes_io\u001b[0m\u001b[0;34m.\u001b[0m\u001b[0mgetvalue\u001b[0m\u001b[0;34m(\u001b[0m\u001b[0;34m)\u001b[0m\u001b[0;34m\u001b[0m\u001b[0;34m\u001b[0m\u001b[0m\n\u001b[1;32m    130\u001b[0m     \u001b[0;32mif\u001b[0m \u001b[0mfmt\u001b[0m \u001b[0;34m==\u001b[0m \u001b[0;34m'svg'\u001b[0m\u001b[0;34m:\u001b[0m\u001b[0;34m\u001b[0m\u001b[0;34m\u001b[0m\u001b[0m\n",
      "\u001b[0;32m/software/lsstsw/stack_20191101/python/miniconda3-4.5.12/envs/lsst-scipipe/lib/python3.7/site-packages/matplotlib/backend_bases.py\u001b[0m in \u001b[0;36mprint_figure\u001b[0;34m(self, filename, dpi, facecolor, edgecolor, orientation, format, bbox_inches, **kwargs)\u001b[0m\n\u001b[1;32m   2073\u001b[0m                     \u001b[0morientation\u001b[0m\u001b[0;34m=\u001b[0m\u001b[0morientation\u001b[0m\u001b[0;34m,\u001b[0m\u001b[0;34m\u001b[0m\u001b[0;34m\u001b[0m\u001b[0m\n\u001b[1;32m   2074\u001b[0m                     \u001b[0mbbox_inches_restore\u001b[0m\u001b[0;34m=\u001b[0m\u001b[0m_bbox_inches_restore\u001b[0m\u001b[0;34m,\u001b[0m\u001b[0;34m\u001b[0m\u001b[0;34m\u001b[0m\u001b[0m\n\u001b[0;32m-> 2075\u001b[0;31m                     **kwargs)\n\u001b[0m\u001b[1;32m   2076\u001b[0m             \u001b[0;32mfinally\u001b[0m\u001b[0;34m:\u001b[0m\u001b[0;34m\u001b[0m\u001b[0;34m\u001b[0m\u001b[0m\n\u001b[1;32m   2077\u001b[0m                 \u001b[0;32mif\u001b[0m \u001b[0mbbox_inches\u001b[0m \u001b[0;32mand\u001b[0m \u001b[0mrestore_bbox\u001b[0m\u001b[0;34m:\u001b[0m\u001b[0;34m\u001b[0m\u001b[0;34m\u001b[0m\u001b[0m\n",
      "\u001b[0;32m/software/lsstsw/stack_20191101/python/miniconda3-4.5.12/envs/lsst-scipipe/lib/python3.7/site-packages/matplotlib/backends/backend_agg.py\u001b[0m in \u001b[0;36mprint_png\u001b[0;34m(self, filename_or_obj, *args, **kwargs)\u001b[0m\n\u001b[1;32m    508\u001b[0m \u001b[0;34m\u001b[0m\u001b[0m\n\u001b[1;32m    509\u001b[0m         \"\"\"\n\u001b[0;32m--> 510\u001b[0;31m         \u001b[0mFigureCanvasAgg\u001b[0m\u001b[0;34m.\u001b[0m\u001b[0mdraw\u001b[0m\u001b[0;34m(\u001b[0m\u001b[0mself\u001b[0m\u001b[0;34m)\u001b[0m\u001b[0;34m\u001b[0m\u001b[0;34m\u001b[0m\u001b[0m\n\u001b[0m\u001b[1;32m    511\u001b[0m         \u001b[0mrenderer\u001b[0m \u001b[0;34m=\u001b[0m \u001b[0mself\u001b[0m\u001b[0;34m.\u001b[0m\u001b[0mget_renderer\u001b[0m\u001b[0;34m(\u001b[0m\u001b[0;34m)\u001b[0m\u001b[0;34m\u001b[0m\u001b[0;34m\u001b[0m\u001b[0m\n\u001b[1;32m    512\u001b[0m \u001b[0;34m\u001b[0m\u001b[0m\n",
      "\u001b[0;32m/software/lsstsw/stack_20191101/python/miniconda3-4.5.12/envs/lsst-scipipe/lib/python3.7/site-packages/matplotlib/backends/backend_agg.py\u001b[0m in \u001b[0;36mdraw\u001b[0;34m(self)\u001b[0m\n\u001b[1;32m    394\u001b[0m         \u001b[0mDraw\u001b[0m \u001b[0mthe\u001b[0m \u001b[0mfigure\u001b[0m \u001b[0musing\u001b[0m \u001b[0mthe\u001b[0m \u001b[0mrenderer\u001b[0m\u001b[0;34m.\u001b[0m\u001b[0;34m\u001b[0m\u001b[0;34m\u001b[0m\u001b[0m\n\u001b[1;32m    395\u001b[0m         \"\"\"\n\u001b[0;32m--> 396\u001b[0;31m         \u001b[0mself\u001b[0m\u001b[0;34m.\u001b[0m\u001b[0mrenderer\u001b[0m \u001b[0;34m=\u001b[0m \u001b[0mself\u001b[0m\u001b[0;34m.\u001b[0m\u001b[0mget_renderer\u001b[0m\u001b[0;34m(\u001b[0m\u001b[0mcleared\u001b[0m\u001b[0;34m=\u001b[0m\u001b[0;32mTrue\u001b[0m\u001b[0;34m)\u001b[0m\u001b[0;34m\u001b[0m\u001b[0;34m\u001b[0m\u001b[0m\n\u001b[0m\u001b[1;32m    397\u001b[0m         \u001b[0;31m# acquire a lock on the shared font cache\u001b[0m\u001b[0;34m\u001b[0m\u001b[0;34m\u001b[0m\u001b[0;34m\u001b[0m\u001b[0m\n\u001b[1;32m    398\u001b[0m         \u001b[0mRendererAgg\u001b[0m\u001b[0;34m.\u001b[0m\u001b[0mlock\u001b[0m\u001b[0;34m.\u001b[0m\u001b[0macquire\u001b[0m\u001b[0;34m(\u001b[0m\u001b[0;34m)\u001b[0m\u001b[0;34m\u001b[0m\u001b[0;34m\u001b[0m\u001b[0m\n",
      "\u001b[0;32m/software/lsstsw/stack_20191101/python/miniconda3-4.5.12/envs/lsst-scipipe/lib/python3.7/site-packages/matplotlib/backends/backend_agg.py\u001b[0m in \u001b[0;36mget_renderer\u001b[0;34m(self, cleared)\u001b[0m\n\u001b[1;32m    415\u001b[0m \u001b[0;34m\u001b[0m\u001b[0m\n\u001b[1;32m    416\u001b[0m         \u001b[0;32mif\u001b[0m \u001b[0mneed_new_renderer\u001b[0m\u001b[0;34m:\u001b[0m\u001b[0;34m\u001b[0m\u001b[0;34m\u001b[0m\u001b[0m\n\u001b[0;32m--> 417\u001b[0;31m             \u001b[0mself\u001b[0m\u001b[0;34m.\u001b[0m\u001b[0mrenderer\u001b[0m \u001b[0;34m=\u001b[0m \u001b[0mRendererAgg\u001b[0m\u001b[0;34m(\u001b[0m\u001b[0mw\u001b[0m\u001b[0;34m,\u001b[0m \u001b[0mh\u001b[0m\u001b[0;34m,\u001b[0m \u001b[0mself\u001b[0m\u001b[0;34m.\u001b[0m\u001b[0mfigure\u001b[0m\u001b[0;34m.\u001b[0m\u001b[0mdpi\u001b[0m\u001b[0;34m)\u001b[0m\u001b[0;34m\u001b[0m\u001b[0;34m\u001b[0m\u001b[0m\n\u001b[0m\u001b[1;32m    418\u001b[0m             \u001b[0mself\u001b[0m\u001b[0;34m.\u001b[0m\u001b[0m_lastKey\u001b[0m \u001b[0;34m=\u001b[0m \u001b[0mkey\u001b[0m\u001b[0;34m\u001b[0m\u001b[0;34m\u001b[0m\u001b[0m\n\u001b[1;32m    419\u001b[0m         \u001b[0;32melif\u001b[0m \u001b[0mcleared\u001b[0m\u001b[0;34m:\u001b[0m\u001b[0;34m\u001b[0m\u001b[0;34m\u001b[0m\u001b[0m\n",
      "\u001b[0;32m/software/lsstsw/stack_20191101/python/miniconda3-4.5.12/envs/lsst-scipipe/lib/python3.7/site-packages/matplotlib/backends/backend_agg.py\u001b[0m in \u001b[0;36m__init__\u001b[0;34m(self, width, height, dpi)\u001b[0m\n\u001b[1;32m     85\u001b[0m         \u001b[0mself\u001b[0m\u001b[0;34m.\u001b[0m\u001b[0mwidth\u001b[0m \u001b[0;34m=\u001b[0m \u001b[0mwidth\u001b[0m\u001b[0;34m\u001b[0m\u001b[0;34m\u001b[0m\u001b[0m\n\u001b[1;32m     86\u001b[0m         \u001b[0mself\u001b[0m\u001b[0;34m.\u001b[0m\u001b[0mheight\u001b[0m \u001b[0;34m=\u001b[0m \u001b[0mheight\u001b[0m\u001b[0;34m\u001b[0m\u001b[0;34m\u001b[0m\u001b[0m\n\u001b[0;32m---> 87\u001b[0;31m         \u001b[0mself\u001b[0m\u001b[0;34m.\u001b[0m\u001b[0m_renderer\u001b[0m \u001b[0;34m=\u001b[0m \u001b[0m_RendererAgg\u001b[0m\u001b[0;34m(\u001b[0m\u001b[0mint\u001b[0m\u001b[0;34m(\u001b[0m\u001b[0mwidth\u001b[0m\u001b[0;34m)\u001b[0m\u001b[0;34m,\u001b[0m \u001b[0mint\u001b[0m\u001b[0;34m(\u001b[0m\u001b[0mheight\u001b[0m\u001b[0;34m)\u001b[0m\u001b[0;34m,\u001b[0m \u001b[0mdpi\u001b[0m\u001b[0;34m)\u001b[0m\u001b[0;34m\u001b[0m\u001b[0;34m\u001b[0m\u001b[0m\n\u001b[0m\u001b[1;32m     88\u001b[0m         \u001b[0mself\u001b[0m\u001b[0;34m.\u001b[0m\u001b[0m_filter_renderers\u001b[0m \u001b[0;34m=\u001b[0m \u001b[0;34m[\u001b[0m\u001b[0;34m]\u001b[0m\u001b[0;34m\u001b[0m\u001b[0;34m\u001b[0m\u001b[0m\n\u001b[1;32m     89\u001b[0m \u001b[0;34m\u001b[0m\u001b[0m\n",
      "\u001b[0;31mValueError\u001b[0m: Image size of 541303x2319 pixels is too large. It must be less than 2^16 in each direction."
     ]
    },
    {
     "data": {
      "text/plain": [
       "<Figure size 3900x1800 with 8 Axes>"
      ]
     },
     "metadata": {
      "needs_background": "light"
     },
     "output_type": "display_data"
    }
   ],
   "source": [
    "# image of CCD overscan regions for single visit\n",
    "%matplotlib inline\n",
    "\n",
    "# setup\n",
    "scale = 2 # number of stdevs/madevs to plot either side\n",
    "imvisit = visits[0]\n",
    "imfilter = filtername[0]\n",
    "\n",
    "# butler\n",
    "raw = butler.get('raw', visit=int(imvisit), ccd=ccd)\n",
    "\n",
    "# get image/mask/variance map for each horizontal overscan region (converted to int64)\n",
    "overscan1 = raw.maskedImage[obox1].getArrays()[0].astype(np.int64)\n",
    "overscan2 = raw.maskedImage[obox2].getArrays()[0].astype(np.int64)\n",
    "overscan3 = raw.maskedImage[obox3].getArrays()[0].astype(np.int64)\n",
    "overscan4 = raw.maskedImage[obox4].getArrays()[0].astype(np.int64)\n",
    "\n",
    "# rebin, log(?), subtract mean/median, rescale to std/mad, and rotate\n",
    "downscale = 24\n",
    "moverscan = []\n",
    "mdelta = []\n",
    "for ab, overscan in zip(['b','a','b','a'], [overscan1, overscan2, overscan3, overscan4]):\n",
    "    md = rebin(overscan, new_shape=(np.array(overscan.shape)[0]/downscale, \n",
    "                                             np.array(overscan.shape)[1])\n",
    "              )\n",
    "    if ab == 'a':\n",
    "        mdel = md[:, 0] - md[:, -1]\n",
    "    else:\n",
    "        mdel = md[:, -1] - md[:, 0]\n",
    "    #md -= np.mean(md)\n",
    "    #md /= np.std(md)\n",
    "    md -= np.median(md)\n",
    "    md /= mad(md)\n",
    "    md = np.rot90(md)\n",
    "    moverscan.append(md)\n",
    "    mdelta.append(mdel)\n",
    "\n",
    "# plotting\n",
    "#fig, axs = plt.subplots(8, sharex=True, sharey=True, figsize=(13,6), dpi=300)\n",
    "#ax1 = plt.subplot2grid((13, 1), (0, 0))\n",
    "#ax2 = plt.subplot2grid((13, 2), (1, 0))\n",
    "#ax3 = plt.subplot2grid((13, 1), (2, 0))\n",
    "#ax4 = plt.subplot2grid((13, 2), (3, 0))\n",
    "#ax5 = plt.subplot2grid((13, 1), (0, 0))\n",
    "#ax6 = plt.subplot2grid((13, 2), (1, 0))\n",
    "#ax7 = plt.subplot2grid((13, 1), (2, 0))\n",
    "#ax8 = plt.subplot2grid((13, 2), (4, 0), rowspan=2)\n",
    "#fig, axs = plt.subplots(ncols=1, nrows=8, figsize=(13,6), dpi=300, height_ratios=[1,2,1,2,1,2,1,2])\n",
    "#fig = plt.subplots(figsize=(13,6), dpi=300)\n",
    "#spec = fig.add_gridspec(ncols=1, nrows=8, height_ratios=[2,1,2,1,2,1,2,1])\n",
    "\n",
    "#fig = plt.figure(constrained_layout=True)\n",
    "#spec = fig.add_gridspec(ncols=1, nrows=8)\n",
    "\n",
    "fig = plt.figure(figsize=(13,6), dpi=300)\n",
    "\n",
    "for i, data2d, data1d, ampid, original in zip([1,3,5,7],\n",
    "                             [moverscan[3], moverscan[2], moverscan[1], moverscan[0]],\n",
    "                             [mdelta[3], mdelta[2], mdelta[1], mdelta[0]],\n",
    "                             [4,3,2,1],\n",
    "                             [overscan4, overscan3, overscan2, overscan1]):\n",
    "    ax = fig.add_subplot(8, 1, i)\n",
    "    ax.set_axis_off()\n",
    "    ax.text(4296/downscale, 6, \"amp %s\" % ampid, rotation=-90)\n",
    "    ax.text(4196/downscale, 1, \"med = %.0f\" % np.median(original), rotation=-90)\n",
    "    \n",
    "    ax = fig.add_subplot(8, 1, i+1)\n",
    "    ax.plot(data1d)\n",
    "                \n",
    "#for i, md, ampid, d in zip([1,3,5,7], [moverscan[3],moverscan[2],moverscan[1],moverscan[0]], \n",
    "#                           [4,3,2,1], [overscan4, overscan3, overscan2, overscan1]):\n",
    "#    im = axs[i].imshow(md, vmin=-scale, vmax=scale)\n",
    "#    axs[i].set_axis_off()\n",
    "#    axs[i].text(4296/downscale, 6, \"amp %s\" % ampid, rotation=-90)\n",
    "#    axs[i].text(4196/downscale, 1, \"med = %.0f\" % np.median(d), rotation=-90)\n",
    "#for i, delta in zip([0,2,4,6], mdelta):\n",
    "#    axs[i].plot(delta)\n",
    "    \n",
    "fig.text(0.35, 0.92, \"CCD %s overscan: visit %s, filter %s\" % (ccd, imvisit, imfilter), fontsize=14)\n",
    "fig.text(0.4, 0.05, \"y pixel position / %s\" % downscale, fontsize=14)\n",
    "fig.text(0.08, 0.6, \"x pixel position\", rotation=90, fontsize=14)\n",
    "fig.text(0.84, 0.65, \"MAD offset from median\", rotation=-90, fontsize=14)\n",
    "fig.colorbar(im, ax=axs.ravel().tolist())\n",
    "plt.show()"
   ]
  },
  {
   "cell_type": "code",
   "execution_count": null,
   "metadata": {},
   "outputs": [],
   "source": []
  }
 ],
 "metadata": {
  "kernelspec": {
   "display_name": "Python 3",
   "language": "python",
   "name": "python3"
  },
  "language_info": {
   "codemirror_mode": {
    "name": "ipython",
    "version": 3
   },
   "file_extension": ".py",
   "mimetype": "text/x-python",
   "name": "python",
   "nbconvert_exporter": "python",
   "pygments_lexer": "ipython3",
   "version": "3.7.2"
  }
 },
 "nbformat": 4,
 "nbformat_minor": 2
}
