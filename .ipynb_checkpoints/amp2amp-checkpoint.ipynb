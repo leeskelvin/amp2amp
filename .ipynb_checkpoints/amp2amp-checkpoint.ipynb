{
 "cells": [
  {
   "cell_type": "code",
   "execution_count": 1,
   "metadata": {},
   "outputs": [],
   "source": [
    "# imports\n",
    "import numpy as np\n",
    "import matplotlib.pyplot as plt\n",
    "import astropy.io.fits as fits\n",
    "import esutil\n",
    "\n",
    "import lsst.afw.math as afwMath\n",
    "import lsst.daf.persistence as dafPersist"
   ]
  },
  {
   "cell_type": "code",
   "execution_count": 3,
   "metadata": {},
   "outputs": [],
   "source": [
    "ccd = 43"
   ]
  },
  {
   "cell_type": "code",
   "execution_count": 42,
   "metadata": {},
   "outputs": [],
   "source": [
    "# butler\n",
    "butlerVisit = dafPersist.Butler(\n",
    "    '/datasets/hsc/repo/rerun/private/erykoff/fgcm_pdr1_run1wd/wide_deep2'\n",
    ")\n",
    "obsTable = butlerVisit.get(\n",
    "    'fgcmVisitCatalog'\n",
    ")\n",
    "butler = dafPersist.Butler(\n",
    "    '/datasets/hsc/repo/rerun/private/erykoff/hscproc/runIsrPDR1'\n",
    ")"
   ]
  },
  {
   "cell_type": "code",
   "execution_count": 35,
   "metadata": {},
   "outputs": [],
   "source": [
    "# define amps\n",
    "camera = butler.get('camera')\n",
    "det = camera[ccd]\n",
    "amp1, amp2, amp3, amp4 = det.getAmpInfoCatalog()"
   ]
  },
  {
   "cell_type": "code",
   "execution_count": 36,
   "metadata": {},
   "outputs": [],
   "source": [
    "# overscan bounding boxes\n",
    "obox1 = amp1.getRawHorizontalOverscanBBox()\n",
    "obox2 = amp2.getRawHorizontalOverscanBBox()\n",
    "obox3 = amp3.getRawHorizontalOverscanBBox()\n",
    "obox4 = amp4.getRawHorizontalOverscanBBox()"
   ]
  },
  {
   "cell_type": "code",
   "execution_count": 43,
   "metadata": {},
   "outputs": [],
   "source": [
    "# raw data bounding boxes\n",
    "abox1 = amp1.getRawDataBBox()\n",
    "abox2 = amp2.getRawDataBBox()\n",
    "abox3 = amp3.getRawDataBBox()\n",
    "abox4 = amp4.getRawDataBBox()"
   ]
  },
  {
   "cell_type": "code",
   "execution_count": 44,
   "metadata": {},
   "outputs": [],
   "source": [
    "# visits\n",
    "visits = obsTable['visit']"
   ]
  },
  {
   "cell_type": "code",
   "execution_count": 83,
   "metadata": {},
   "outputs": [
    {
     "data": {
      "text/plain": [
       "array([  374,   376,   378, ..., 47146, 47148, 47154], dtype=int32)"
      ]
     },
     "execution_count": 83,
     "metadata": {},
     "output_type": "execute_result"
    }
   ],
   "source": [
    "visits.view()"
   ]
  },
  {
   "cell_type": "code",
   "execution_count": null,
   "metadata": {},
   "outputs": [],
   "source": []
  }
 ],
 "metadata": {
  "kernelspec": {
   "display_name": "Python 3",
   "language": "python",
   "name": "python3"
  },
  "language_info": {
   "codemirror_mode": {
    "name": "ipython",
    "version": 3
   },
   "file_extension": ".py",
   "mimetype": "text/x-python",
   "name": "python",
   "nbconvert_exporter": "python",
   "pygments_lexer": "ipython3",
   "version": "3.7.2"
  }
 },
 "nbformat": 4,
 "nbformat_minor": 2
}
