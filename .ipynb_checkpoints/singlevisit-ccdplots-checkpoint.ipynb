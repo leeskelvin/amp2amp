{
 "cells": [
  {
   "cell_type": "markdown",
   "metadata": {},
   "source": [
    "# HSC Amp-to-Amp Offsets\n",
    "\n",
    "## Useful links\n",
    "* [LSKs GitHub Repo](https://github.com/leeskelvin/amp2amp)\n",
    "* [Jira Ticket (DM-20303)](https://jira.lsstcorp.org/browse/DM-20303)\n",
    "* [Dropbox paper: Background Exploration Aug 2018](https://paper.dropbox.com/doc/Background-Exploration-Aug-2018--ApTKzYDGr98X1Dl_UXBp5iGGAg-62Gc0Msel3yCa6VEtRVy7)\n",
    "* [Eli's original analysis code](https://raw.githubusercontent.com/leeskelvin/amp2amp/master/ref/compute_and_plot_amp_offsets_pdr1_perpix4.py)\n",
    "* [Eli's presentation: HSC Background Offsets: What's Up With That?](https://github.com/leeskelvin/amp2amp/blob/master/ref/hsc_background_offsets.pdf)\n",
    "* [Boone et al. 2018](https://github.com/leeskelvin/amp2amp/blob/master/ref/Boone2018::2018PASP..130f4504B.pdf)"
   ]
  },
  {
   "cell_type": "code",
   "execution_count": 1,
   "metadata": {},
   "outputs": [],
   "source": [
    "# output options\n",
    "visit = 1252\n",
    "outdir = 'singlevisit-ccdplots/visit%05d' % (visit)"
   ]
  },
  {
   "cell_type": "markdown",
   "metadata": {},
   "source": [
    "<h2>HSC CCD Arrangement</h2>\n",
    "<h3 style=\"margin-top:10px; margin-bottom:25px;\"><a href=\"https://subarutelescope.org/Observing/Instruments/HSC/ccd.html\">https://subarutelescope.org/Observing/Instruments/HSC/ccd.html</a></h3>\n",
    "<div style=\"width:700px; height:525px;\"><img style=\"max-width:100%; max-height:100%;\" src=\"ref/CCDPosition_20170212.png\" alt=\"HSC CCDs\"></div>"
   ]
  },
  {
   "cell_type": "code",
   "execution_count": 161,
   "metadata": {},
   "outputs": [],
   "source": [
    "# imports\n",
    "import numpy as np\n",
    "import matplotlib.pyplot as plt\n",
    "import matplotlib.patches as mpatches\n",
    "import matplotlib.patheffects as PathEffects\n",
    "import matplotlib.gridspec as gridspec\n",
    "import astropy.io.fits as fits\n",
    "import esutil\n",
    "import os.path\n",
    "from astropy.time import Time\n",
    "\n",
    "import lsst\n",
    "import lsst.afw.math as afwMath\n",
    "import lsst.daf.persistence as dafPersist"
   ]
  },
  {
   "cell_type": "code",
   "execution_count": 14,
   "metadata": {},
   "outputs": [],
   "source": [
    "# setup\n",
    "\n",
    "# directory check\n",
    "if (not os.path.exists(outdir)):\n",
    "    os.makedirs(outdir)\n",
    "\n",
    "# function to rebin 2D array\n",
    "def rebin(arr, new_shape):\n",
    "    shape = (int(new_shape[0]), arr.shape[0] // int(new_shape[0]),\n",
    "             int(new_shape[1]), arr.shape[1] // int(new_shape[1]))\n",
    "    return arr.reshape(shape).mean(-1).mean(1)\n",
    "\n",
    "# median absolute deviation\n",
    "def mad(x, k = 1.4826):\n",
    "    return k * np.median(np.abs(x - np.median(x)))\n",
    "\n",
    "# running median\n",
    "def run_med(x, k = 5):\n",
    "    runmed = []\n",
    "    for i in range(len(x)):\n",
    "        rad = round((k-1)/2)\n",
    "        xlo = np.max([i-rad,0])\n",
    "        xhi = np.min([i+rad+1,len(x)])\n",
    "        runmed.append(np.median(x[xlo:xhi]))\n",
    "    return runmed\n",
    "\n",
    "# running mean\n",
    "def run_mean(x, k = 5):\n",
    "    runmean = []\n",
    "    for i in range(len(x)):\n",
    "        rad = round((k-1)/2)\n",
    "        xlo = np.max([i-rad,0])\n",
    "        xhi = np.min([i+rad+1,len(x)])\n",
    "        runmean.append(np.mean(x[xlo:xhi]))\n",
    "    return runmean"
   ]
  },
  {
   "cell_type": "code",
   "execution_count": 105,
   "metadata": {},
   "outputs": [],
   "source": [
    "# butler\n",
    "butlerVisit = dafPersist.Butler(\n",
    "    '/datasets/hsc/repo/rerun/private/erykoff/fgcm_pdr1_run1wd/wide_deep2'\n",
    ")\n",
    "obsTable = butlerVisit.get(\n",
    "    'fgcmVisitCatalog'\n",
    ")\n",
    "butler = dafPersist.Butler(\n",
    "    '/datasets/hsc/repo/rerun/private/erykoff/hscproc/runIsrPDR1'\n",
    ")"
   ]
  },
  {
   "cell_type": "code",
   "execution_count": 106,
   "metadata": {},
   "outputs": [],
   "source": [
    "# generate camera table\n",
    "camera = butler.get('camera')\n",
    "temp_ids = []\n",
    "temp_amps = []\n",
    "for ccd in range(len(camera)):\n",
    "    temp_ids.append(camera[ccd].getId())\n",
    "    temp_amps.append(camera[ccd].getAmplifiers())\n",
    "ccds = dict(zip(temp_ids, temp_amps))"
   ]
  },
  {
   "cell_type": "code",
   "execution_count": 154,
   "metadata": {},
   "outputs": [
    {
     "ename": "TypeError",
     "evalue": "getTransform(): incompatible function arguments. The following argument types are supported:\n    1. (self: lsst.afw.cameraGeom.camera.camera.Camera, fromSys: lsst.afw.cameraGeom.cameraSys.CameraSys, toSys: lsst.afw.cameraGeom.cameraSys.CameraSys) -> lsst.afw.geom.transform.transform.TransformPoint2ToPoint2\n\nInvoked with: <lsst.afw.cameraGeom.camera.camera.Camera object at 0x7fa3569a3730>, 0, 0",
     "output_type": "error",
     "traceback": [
      "\u001b[0;31m---------------------------------------------------------------------------\u001b[0m",
      "\u001b[0;31mTypeError\u001b[0m                                 Traceback (most recent call last)",
      "\u001b[0;32m<ipython-input-154-44bc081fe88d>\u001b[0m in \u001b[0;36m<module>\u001b[0;34m\u001b[0m\n\u001b[0;32m----> 1\u001b[0;31m \u001b[0mcamera\u001b[0m\u001b[0;34m.\u001b[0m\u001b[0mgetTransform\u001b[0m\u001b[0;34m(\u001b[0m\u001b[0;36m0\u001b[0m\u001b[0;34m,\u001b[0m \u001b[0;36m0\u001b[0m\u001b[0;34m)\u001b[0m\u001b[0;34m\u001b[0m\u001b[0;34m\u001b[0m\u001b[0m\n\u001b[0m",
      "\u001b[0;31mTypeError\u001b[0m: getTransform(): incompatible function arguments. The following argument types are supported:\n    1. (self: lsst.afw.cameraGeom.camera.camera.Camera, fromSys: lsst.afw.cameraGeom.cameraSys.CameraSys, toSys: lsst.afw.cameraGeom.cameraSys.CameraSys) -> lsst.afw.geom.transform.transform.TransformPoint2ToPoint2\n\nInvoked with: <lsst.afw.cameraGeom.camera.camera.Camera object at 0x7fa3569a3730>, 0, 0"
     ]
    }
   ],
   "source": [
    "camera.getTransform(0, 0)"
   ]
  },
  {
   "cell_type": "code",
   "execution_count": 232,
   "metadata": {},
   "outputs": [],
   "source": [
    "pixToFocal = camera[10].getTransform(lsst.afw.cameraGeom.PIXELS, lsst.afw.cameraGeom.FOCAL_PLANE)\n",
    "corners = pixToFocal.applyForward(camera[10].getCorners(lsst.afw.cameraGeom.FOCAL_PLANE))\n",
    "centers = pixToFocal.applyForward(camera[10].getCenter(lsst.afw.cameraGeom.FOCAL_PLANE))"
   ]
  },
  {
   "cell_type": "code",
   "execution_count": 328,
   "metadata": {},
   "outputs": [
    {
     "data": {
      "text/plain": [
       "[Point2D(-274.2031237, 71.859756),\n",
       " Point2D(-273.7423237, 71.859756),\n",
       " Point2D(-273.7423237, 72.799356),\n",
       " Point2D(-274.2031237, 72.799356)]"
      ]
     },
     "execution_count": 328,
     "metadata": {},
     "output_type": "execute_result"
    }
   ],
   "source": [
    "pixToFocal = camera[i].getTransform(lsst.afw.cameraGeom.PIXELS, lsst.afw.cameraGeom.FOCAL_PLANE)\n",
    "corners = pixToFocal.applyForward(camera[i].getCorners(lsst.afw.cameraGeom.PIXELS))\n",
    "corners"
   ]
  },
  {
   "cell_type": "code",
   "execution_count": 330,
   "metadata": {},
   "outputs": [
    {
     "data": {
      "image/png": "[encoded data removed]",
      "text/plain": [
       "<Figure size 432x288 with 1 Axes>"
      ]
     },
     "metadata": {
      "needs_background": "light"
     },
     "output_type": "display_data"
    }
   ],
   "source": [
    "for i in range(len(camera)):\n",
    "    pixToFocal = camera[i].getTransform(lsst.afw.cameraGeom.PIXELS, lsst.afw.cameraGeom.FOCAL_PLANE)\n",
    "    corners = pixToFocal.applyForward(camera[i].getCorners(lsst.afw.cameraGeom.PIXELS))\n",
    "    plt.plot(*zip(*corners))\n",
    "    #centers = pixToFocal.applyForward(camera[i].getCenter(lsst.afw.cameraGeom.PIXELS))\n",
    "    #plt.plot(centers[0], centers[1], 'bo')\n",
    "    plt.gca().set_aspect('equal', adjustable='box')"
   ]
  },
  {
   "cell_type": "code",
   "execution_count": 300,
   "metadata": {},
   "outputs": [
    {
     "data": {
      "image/png": "[encoded data removed]",
      "text/plain": [
       "<Figure size 432x288 with 1 Axes>"
      ]
     },
     "metadata": {
      "needs_background": "light"
     },
     "output_type": "display_data"
    }
   ],
   "source": [
    "for i in range(len(camera)):\n",
    "    pixToFocal = camera[i].getTransform(lsst.afw.cameraGeom.PIXELS, lsst.afw.cameraGeom.FOCAL_PLANE)\n",
    "    #corners = pixToFocal.applyForward(camera[i].getCorners(lsst.afw.cameraGeom.PIXELS))\n",
    "    #plt.plot(*zip(*corners), 'bo')\n",
    "    centers = pixToFocal.applyForward(camera[i].getCenter(lsst.afw.cameraGeom.PIXELS))\n",
    "    plt.plot(centers[0], centers[1], 'bo')\n",
    "    plt.gca().set_aspect('equal', adjustable='box')"
   ]
  },
  {
   "cell_type": "code",
   "execution_count": null,
   "metadata": {},
   "outputs": [],
   "source": []
  },
  {
   "cell_type": "code",
   "execution_count": null,
   "metadata": {},
   "outputs": [],
   "source": [
    "# generate "
   ]
  },
  {
   "cell_type": "code",
   "execution_count": 20,
   "metadata": {},
   "outputs": [
    {
     "ename": "KeyError",
     "evalue": "'ccd'",
     "output_type": "error",
     "traceback": [
      "\u001b[0;31m---------------------------------------------------------------------------\u001b[0m",
      "\u001b[0;31mKeyError\u001b[0m                                  Traceback (most recent call last)",
      "\u001b[0;32m<ipython-input-20-1ef0cb7838fb>\u001b[0m in \u001b[0;36m<module>\u001b[0;34m\u001b[0m\n\u001b[1;32m      1\u001b[0m \u001b[0;31m# define amps\u001b[0m\u001b[0;34m\u001b[0m\u001b[0;34m\u001b[0m\u001b[0;34m\u001b[0m\u001b[0m\n\u001b[0;32m----> 2\u001b[0;31m \u001b[0mcamera\u001b[0m \u001b[0;34m=\u001b[0m \u001b[0mbutler\u001b[0m\u001b[0;34m.\u001b[0m\u001b[0mget\u001b[0m\u001b[0;34m(\u001b[0m\u001b[0;34m'calexp_detector'\u001b[0m\u001b[0;34m)\u001b[0m\u001b[0;34m\u001b[0m\u001b[0;34m\u001b[0m\u001b[0m\n\u001b[0m\u001b[1;32m      3\u001b[0m \u001b[0mdet\u001b[0m \u001b[0;34m=\u001b[0m \u001b[0mcamera\u001b[0m\u001b[0;34m[\u001b[0m\u001b[0mccd\u001b[0m\u001b[0;34m]\u001b[0m\u001b[0;34m\u001b[0m\u001b[0;34m\u001b[0m\u001b[0m\n\u001b[1;32m      4\u001b[0m \u001b[0mamp1\u001b[0m\u001b[0;34m,\u001b[0m \u001b[0mamp2\u001b[0m\u001b[0;34m,\u001b[0m \u001b[0mamp3\u001b[0m\u001b[0;34m,\u001b[0m \u001b[0mamp4\u001b[0m \u001b[0;34m=\u001b[0m \u001b[0mdet\u001b[0m\u001b[0;34m.\u001b[0m\u001b[0mgetAmplifiers\u001b[0m\u001b[0;34m(\u001b[0m\u001b[0;34m)\u001b[0m\u001b[0;34m\u001b[0m\u001b[0;34m\u001b[0m\u001b[0m\n",
      "\u001b[0;32m/software/lsstsw/stack_20191101/stack/miniconda3-4.5.12-4d7b902/Linux64/daf_persistence/19.0.0-1-g6fe20d0+1/python/lsst/daf/persistence/butler.py\u001b[0m in \u001b[0;36mget\u001b[0;34m(self, datasetType, dataId, immediate, **rest)\u001b[0m\n\u001b[1;32m   1372\u001b[0m         \u001b[0mdataId\u001b[0m\u001b[0;34m.\u001b[0m\u001b[0mupdate\u001b[0m\u001b[0;34m(\u001b[0m\u001b[0;34m**\u001b[0m\u001b[0mrest\u001b[0m\u001b[0;34m)\u001b[0m\u001b[0;34m\u001b[0m\u001b[0;34m\u001b[0m\u001b[0m\n\u001b[1;32m   1373\u001b[0m \u001b[0;34m\u001b[0m\u001b[0m\n\u001b[0;32m-> 1374\u001b[0;31m         \u001b[0mlocation\u001b[0m \u001b[0;34m=\u001b[0m \u001b[0mself\u001b[0m\u001b[0;34m.\u001b[0m\u001b[0m_locate\u001b[0m\u001b[0;34m(\u001b[0m\u001b[0mdatasetType\u001b[0m\u001b[0;34m,\u001b[0m \u001b[0mdataId\u001b[0m\u001b[0;34m,\u001b[0m \u001b[0mwrite\u001b[0m\u001b[0;34m=\u001b[0m\u001b[0;32mFalse\u001b[0m\u001b[0;34m)\u001b[0m\u001b[0;34m\u001b[0m\u001b[0;34m\u001b[0m\u001b[0m\n\u001b[0m\u001b[1;32m   1375\u001b[0m         \u001b[0;32mif\u001b[0m \u001b[0mlocation\u001b[0m \u001b[0;32mis\u001b[0m \u001b[0;32mNone\u001b[0m\u001b[0;34m:\u001b[0m\u001b[0;34m\u001b[0m\u001b[0;34m\u001b[0m\u001b[0m\n\u001b[1;32m   1376\u001b[0m             \u001b[0;32mraise\u001b[0m \u001b[0mNoResults\u001b[0m\u001b[0;34m(\u001b[0m\u001b[0;34m\"No locations for get:\"\u001b[0m\u001b[0;34m,\u001b[0m \u001b[0mdatasetType\u001b[0m\u001b[0;34m,\u001b[0m \u001b[0mdataId\u001b[0m\u001b[0;34m)\u001b[0m\u001b[0;34m\u001b[0m\u001b[0;34m\u001b[0m\u001b[0m\n",
      "\u001b[0;32m/software/lsstsw/stack_20191101/stack/miniconda3-4.5.12-4d7b902/Linux64/daf_persistence/19.0.0-1-g6fe20d0+1/python/lsst/daf/persistence/butler.py\u001b[0m in \u001b[0;36m_locate\u001b[0;34m(self, datasetType, dataId, write)\u001b[0m\n\u001b[1;32m   1320\u001b[0m                         \u001b[0mbypass\u001b[0m \u001b[0;34m=\u001b[0m \u001b[0mself\u001b[0m\u001b[0;34m.\u001b[0m\u001b[0m_getBypassFunc\u001b[0m\u001b[0;34m(\u001b[0m\u001b[0mlocation\u001b[0m\u001b[0;34m,\u001b[0m \u001b[0mdataId\u001b[0m\u001b[0;34m)\u001b[0m\u001b[0;34m\u001b[0m\u001b[0;34m\u001b[0m\u001b[0m\n\u001b[1;32m   1321\u001b[0m                         \u001b[0;32mtry\u001b[0m\u001b[0;34m:\u001b[0m\u001b[0;34m\u001b[0m\u001b[0;34m\u001b[0m\u001b[0m\n\u001b[0;32m-> 1322\u001b[0;31m                             \u001b[0mbypass\u001b[0m \u001b[0;34m=\u001b[0m \u001b[0mbypass\u001b[0m\u001b[0;34m(\u001b[0m\u001b[0;34m)\u001b[0m\u001b[0;34m\u001b[0m\u001b[0;34m\u001b[0m\u001b[0m\n\u001b[0m\u001b[1;32m   1323\u001b[0m                             \u001b[0mlocation\u001b[0m\u001b[0;34m.\u001b[0m\u001b[0mbypass\u001b[0m \u001b[0;34m=\u001b[0m \u001b[0mbypass\u001b[0m\u001b[0;34m\u001b[0m\u001b[0;34m\u001b[0m\u001b[0m\n\u001b[1;32m   1324\u001b[0m                         \u001b[0;32mexcept\u001b[0m \u001b[0;34m(\u001b[0m\u001b[0mNoResults\u001b[0m\u001b[0;34m,\u001b[0m \u001b[0mIOError\u001b[0m\u001b[0;34m)\u001b[0m\u001b[0;34m:\u001b[0m\u001b[0;34m\u001b[0m\u001b[0;34m\u001b[0m\u001b[0m\n",
      "\u001b[0;32m/software/lsstsw/stack_20191101/stack/miniconda3-4.5.12-4d7b902/Linux64/daf_persistence/19.0.0-1-g6fe20d0+1/python/lsst/daf/persistence/butler.py\u001b[0m in \u001b[0;36m<lambda>\u001b[0;34m()\u001b[0m\n\u001b[1;32m   1348\u001b[0m                 \u001b[0mpythonType\u001b[0m \u001b[0;34m=\u001b[0m \u001b[0mdoImport\u001b[0m\u001b[0;34m(\u001b[0m\u001b[0mpythonType\u001b[0m\u001b[0;34m)\u001b[0m\u001b[0;34m\u001b[0m\u001b[0;34m\u001b[0m\u001b[0m\n\u001b[1;32m   1349\u001b[0m         \u001b[0mbypassFunc\u001b[0m \u001b[0;34m=\u001b[0m \u001b[0mgetattr\u001b[0m\u001b[0;34m(\u001b[0m\u001b[0mlocation\u001b[0m\u001b[0;34m.\u001b[0m\u001b[0mmapper\u001b[0m\u001b[0;34m,\u001b[0m \u001b[0;34m\"bypass_\"\u001b[0m \u001b[0;34m+\u001b[0m \u001b[0mlocation\u001b[0m\u001b[0;34m.\u001b[0m\u001b[0mdatasetType\u001b[0m\u001b[0;34m)\u001b[0m\u001b[0;34m\u001b[0m\u001b[0;34m\u001b[0m\u001b[0m\n\u001b[0;32m-> 1350\u001b[0;31m         \u001b[0;32mreturn\u001b[0m \u001b[0;32mlambda\u001b[0m\u001b[0;34m:\u001b[0m \u001b[0mbypassFunc\u001b[0m\u001b[0;34m(\u001b[0m\u001b[0mlocation\u001b[0m\u001b[0;34m.\u001b[0m\u001b[0mdatasetType\u001b[0m\u001b[0;34m,\u001b[0m \u001b[0mpythonType\u001b[0m\u001b[0;34m,\u001b[0m \u001b[0mlocation\u001b[0m\u001b[0;34m,\u001b[0m \u001b[0mdataId\u001b[0m\u001b[0;34m)\u001b[0m\u001b[0;34m\u001b[0m\u001b[0;34m\u001b[0m\u001b[0m\n\u001b[0m\u001b[1;32m   1351\u001b[0m \u001b[0;34m\u001b[0m\u001b[0m\n\u001b[1;32m   1352\u001b[0m     \u001b[0;32mdef\u001b[0m \u001b[0mget\u001b[0m\u001b[0;34m(\u001b[0m\u001b[0mself\u001b[0m\u001b[0;34m,\u001b[0m \u001b[0mdatasetType\u001b[0m\u001b[0;34m,\u001b[0m \u001b[0mdataId\u001b[0m\u001b[0;34m=\u001b[0m\u001b[0;32mNone\u001b[0m\u001b[0;34m,\u001b[0m \u001b[0mimmediate\u001b[0m\u001b[0;34m=\u001b[0m\u001b[0;32mTrue\u001b[0m\u001b[0;34m,\u001b[0m \u001b[0;34m**\u001b[0m\u001b[0mrest\u001b[0m\u001b[0;34m)\u001b[0m\u001b[0;34m:\u001b[0m\u001b[0;34m\u001b[0m\u001b[0;34m\u001b[0m\u001b[0m\n",
      "\u001b[0;32m/software/lsstsw/stack_20191101/stack/miniconda3-4.5.12-4d7b902/Linux64/obs_base/19.0.0-8-g608b899+3/python/lsst/obs/base/cameraMapper.py\u001b[0m in \u001b[0;36m<lambda>\u001b[0;34m(datasetType, pythonType, location, dataId)\u001b[0m\n\u001b[1;32m    474\u001b[0m                                            ),\n\u001b[1;32m    475\u001b[0m                                        \u001b[0mbypassImpl\u001b[0m\u001b[0;34m=\u001b[0m\u001b[0;32mlambda\u001b[0m \u001b[0mdatasetType\u001b[0m\u001b[0;34m,\u001b[0m \u001b[0mpythonType\u001b[0m\u001b[0;34m,\u001b[0m \u001b[0mlocation\u001b[0m\u001b[0;34m,\u001b[0m \u001b[0mdataId\u001b[0m\u001b[0;34m:\u001b[0m\u001b[0;34m\u001b[0m\u001b[0;34m\u001b[0m\u001b[0m\n\u001b[0;32m--> 476\u001b[0;31m                                            \u001b[0mself\u001b[0m\u001b[0;34m.\u001b[0m\u001b[0mcamera\u001b[0m\u001b[0;34m[\u001b[0m\u001b[0mself\u001b[0m\u001b[0;34m.\u001b[0m\u001b[0m_extractDetectorName\u001b[0m\u001b[0;34m(\u001b[0m\u001b[0mdataId\u001b[0m\u001b[0;34m)\u001b[0m\u001b[0;34m]\u001b[0m\u001b[0;34m\u001b[0m\u001b[0;34m\u001b[0m\u001b[0m\n\u001b[0m\u001b[1;32m    477\u001b[0m                                        )\n\u001b[1;32m    478\u001b[0m \u001b[0;34m\u001b[0m\u001b[0m\n",
      "\u001b[0;32m/software/lsstsw/stack_20191101/stack/miniconda3-4.5.12-4d7b902/Linux64/obs_subaru/19.0.0-4-g150b3266+2/python/lsst/obs/hsc/hscMapper.py\u001b[0m in \u001b[0;36m_extractDetectorName\u001b[0;34m(self, dataId)\u001b[0m\n\u001b[1;32m    200\u001b[0m \u001b[0;34m\u001b[0m\u001b[0m\n\u001b[1;32m    201\u001b[0m     \u001b[0;32mdef\u001b[0m \u001b[0m_extractDetectorName\u001b[0m\u001b[0;34m(\u001b[0m\u001b[0mself\u001b[0m\u001b[0;34m,\u001b[0m \u001b[0mdataId\u001b[0m\u001b[0;34m)\u001b[0m\u001b[0;34m:\u001b[0m\u001b[0;34m\u001b[0m\u001b[0;34m\u001b[0m\u001b[0m\n\u001b[0;32m--> 202\u001b[0;31m         \u001b[0;32mreturn\u001b[0m \u001b[0mint\u001b[0m\u001b[0;34m(\u001b[0m\u001b[0;34m\"%(ccd)d\"\u001b[0m \u001b[0;34m%\u001b[0m \u001b[0mdataId\u001b[0m\u001b[0;34m)\u001b[0m\u001b[0;34m\u001b[0m\u001b[0;34m\u001b[0m\u001b[0m\n\u001b[0m\u001b[1;32m    203\u001b[0m \u001b[0;34m\u001b[0m\u001b[0m\n\u001b[1;32m    204\u001b[0m     \u001b[0;32mdef\u001b[0m \u001b[0m_computeCcdExposureId\u001b[0m\u001b[0;34m(\u001b[0m\u001b[0mself\u001b[0m\u001b[0;34m,\u001b[0m \u001b[0mdataId\u001b[0m\u001b[0;34m)\u001b[0m\u001b[0;34m:\u001b[0m\u001b[0;34m\u001b[0m\u001b[0;34m\u001b[0m\u001b[0m\n",
      "\u001b[0;32m/software/lsstsw/stack_20191101/python/miniconda3-4.5.12/envs/lsst-scipipe/lib/python3.7/collections/__init__.py\u001b[0m in \u001b[0;36m__getitem__\u001b[0;34m(self, key)\u001b[0m\n\u001b[1;32m   1023\u001b[0m         \u001b[0;32mif\u001b[0m \u001b[0mhasattr\u001b[0m\u001b[0;34m(\u001b[0m\u001b[0mself\u001b[0m\u001b[0;34m.\u001b[0m\u001b[0m__class__\u001b[0m\u001b[0;34m,\u001b[0m \u001b[0;34m\"__missing__\"\u001b[0m\u001b[0;34m)\u001b[0m\u001b[0;34m:\u001b[0m\u001b[0;34m\u001b[0m\u001b[0;34m\u001b[0m\u001b[0m\n\u001b[1;32m   1024\u001b[0m             \u001b[0;32mreturn\u001b[0m \u001b[0mself\u001b[0m\u001b[0;34m.\u001b[0m\u001b[0m__class__\u001b[0m\u001b[0;34m.\u001b[0m\u001b[0m__missing__\u001b[0m\u001b[0;34m(\u001b[0m\u001b[0mself\u001b[0m\u001b[0;34m,\u001b[0m \u001b[0mkey\u001b[0m\u001b[0;34m)\u001b[0m\u001b[0;34m\u001b[0m\u001b[0;34m\u001b[0m\u001b[0m\n\u001b[0;32m-> 1025\u001b[0;31m         \u001b[0;32mraise\u001b[0m \u001b[0mKeyError\u001b[0m\u001b[0;34m(\u001b[0m\u001b[0mkey\u001b[0m\u001b[0;34m)\u001b[0m\u001b[0;34m\u001b[0m\u001b[0;34m\u001b[0m\u001b[0m\n\u001b[0m\u001b[1;32m   1026\u001b[0m     \u001b[0;32mdef\u001b[0m \u001b[0m__setitem__\u001b[0m\u001b[0;34m(\u001b[0m\u001b[0mself\u001b[0m\u001b[0;34m,\u001b[0m \u001b[0mkey\u001b[0m\u001b[0;34m,\u001b[0m \u001b[0mitem\u001b[0m\u001b[0;34m)\u001b[0m\u001b[0;34m:\u001b[0m \u001b[0mself\u001b[0m\u001b[0;34m.\u001b[0m\u001b[0mdata\u001b[0m\u001b[0;34m[\u001b[0m\u001b[0mkey\u001b[0m\u001b[0;34m]\u001b[0m \u001b[0;34m=\u001b[0m \u001b[0mitem\u001b[0m\u001b[0;34m\u001b[0m\u001b[0;34m\u001b[0m\u001b[0m\n\u001b[1;32m   1027\u001b[0m     \u001b[0;32mdef\u001b[0m \u001b[0m__delitem__\u001b[0m\u001b[0;34m(\u001b[0m\u001b[0mself\u001b[0m\u001b[0;34m,\u001b[0m \u001b[0mkey\u001b[0m\u001b[0;34m)\u001b[0m\u001b[0;34m:\u001b[0m \u001b[0;32mdel\u001b[0m \u001b[0mself\u001b[0m\u001b[0;34m.\u001b[0m\u001b[0mdata\u001b[0m\u001b[0;34m[\u001b[0m\u001b[0mkey\u001b[0m\u001b[0;34m]\u001b[0m\u001b[0;34m\u001b[0m\u001b[0;34m\u001b[0m\u001b[0m\n",
      "\u001b[0;31mKeyError\u001b[0m: 'ccd'"
     ]
    }
   ],
   "source": [
    "# define amps\n",
    "camera = butler.get('camera')\n",
    "det = camera[ccd]\n",
    "amp1, amp2, amp3, amp4 = det.getAmplifiers()"
   ]
  },
  {
   "cell_type": "code",
   "execution_count": 6,
   "metadata": {},
   "outputs": [],
   "source": [
    "# raw data bounding boxes\n",
    "dbox1 = amp1.getRawDataBBox()\n",
    "dbox2 = amp2.getRawDataBBox()\n",
    "dbox3 = amp3.getRawDataBBox()\n",
    "dbox4 = amp4.getRawDataBBox()"
   ]
  },
  {
   "cell_type": "code",
   "execution_count": 7,
   "metadata": {},
   "outputs": [],
   "source": [
    "# horizontal overscan bounding boxes\n",
    "obox1 = amp1.getRawHorizontalOverscanBBox()\n",
    "obox2 = amp2.getRawHorizontalOverscanBBox()\n",
    "obox3 = amp3.getRawHorizontalOverscanBBox()\n",
    "obox4 = amp4.getRawHorizontalOverscanBBox()"
   ]
  },
  {
   "cell_type": "code",
   "execution_count": 8,
   "metadata": {
    "scrolled": false
   },
   "outputs": [
    {
     "name": "stdout",
     "output_type": "stream",
     "text": [
      "\u001b[1m\n",
      "Number of visits: 5190\n",
      "Number of visits by filter: {'g': 1030, 'i': 1041, 'r': 925, 'y': 1032, 'z': 1162}\n",
      "Number of pixel rows: 4176\n",
      "Exposure time range: [ 30 : 270 ]\n",
      "Sky background range: [ 56.01 : 14375.22 ]\n",
      "Date of Obs. range: [ 2014.23 : 2015.87 ]\n",
      "\u001b[0m\n"
     ]
    }
   ],
   "source": [
    "# obsTable data\n",
    "filtername = [d['filtername'] for d in np.asarray(obsTable)]\n",
    "if band != 'all': \n",
    "    goodfilters = [i for i,s in enumerate(filtername) if band in s]\n",
    "    filtername = np.asarray(filtername)[goodfilters]\n",
    "else: \n",
    "    goodfilters = range(len(filtername))\n",
    "filtername = np.array(filtername)\n",
    "visits = obsTable['visit'][goodfilters]\n",
    "exptime = obsTable['exptime'][goodfilters]\n",
    "skybackground = obsTable['skybackground'][goodfilters]\n",
    "mjd = obsTable['mjd'][goodfilters]\n",
    "t = Time(mjd, format=\"mjd\")\n",
    "obsdate = t.decimalyear\n",
    "ufname,ufcount = np.unique(filtername, return_counts=True)\n",
    "print('\\033[1m')\n",
    "print('Number of visits:', visits.size)\n",
    "print('Number of visits by filter:', dict(zip(ufname,ufcount)))\n",
    "print('Number of pixel rows:', dbox1.getHeight())\n",
    "print('Exposure time range:', '[', \"%.0f\" % np.min(exptime), ':', \"%.0f\" % np.max(exptime), ']')\n",
    "print('Sky background range:', '[', \"%.2f\" % np.min(skybackground), ':', \"%.2f\" % np.max(skybackground), ']')\n",
    "print('Date of Obs. range:', '[', \"%.2f\" % np.min(obsdate), ':', \"%.2f\" % np.max(obsdate), ']')\n",
    "print('\\033[0m')"
   ]
  },
  {
   "cell_type": "code",
   "execution_count": 9,
   "metadata": {},
   "outputs": [
    {
     "name": "stdout",
     "output_type": "stream",
     "text": [
      "On 20 of 100\n",
      "On 40 of 100\n",
      "On 60 of 100\n",
      "On 80 of 100\n",
      "On 100 of 100\n"
     ]
    }
   ],
   "source": [
    "# image of CCD data regions for single visit\n",
    "\n",
    "# setup\n",
    "devscale = 2 # number of stdevs/madevs to plot either side\n",
    "readme = open('%s/README.md' % outdir, 'w')\n",
    "readme.write(\"# CCD %s Visit Plots\\n\" % ccd)\n",
    "\n",
    "# visit list\n",
    "ids = np.array(np.where(np.array(filtername) == 'g')).tolist()[0][0:20]\n",
    "ids.extend(np.array(np.where(np.array(filtername) == 'r')).tolist()[0][0:20])\n",
    "ids.extend(np.array(np.where(np.array(filtername) == 'i')).tolist()[0][0:20])\n",
    "ids.extend(np.array(np.where(np.array(filtername) == 'z')).tolist()[0][0:20])\n",
    "ids.extend(np.array(np.where(np.array(filtername) == 'y')).tolist()[0][0:20])\n",
    "\n",
    "# loop\n",
    "counter = 0\n",
    "for imvisit, imfilter in zip(visits[ids], filtername[ids]):\n",
    "    \n",
    "    # counter\n",
    "    counter += 1\n",
    "    if (counter % 20) == 0:\n",
    "        print('On %d of %d' % (counter, len(ids)))\n",
    "    \n",
    "    # setup\n",
    "    doutname = '%s/ccd%03d_visit%s_%s_data.png' % (outdir, ccd, imvisit, imfilter)\n",
    "    ooutname = '%s/ccd%03d_visit%s_%s_overscan.png' % (outdir, ccd, imvisit, imfilter)\n",
    "    \n",
    "    # write README file\n",
    "    readme.write(\"### CCD %s: visit %s, filter %s\" % (ccd, imvisit, imfilter))\n",
    "    readme.write(\"![](%s)\\n\" % os.path.split(doutname)[1])\n",
    "    readme.write(\"![](%s)\\n\" % os.path.split(ooutname)[1])\n",
    "    \n",
    "    # check files exist\n",
    "    if ( (not os.path.exists(doutname)) or (not os.path.exists(ooutname)) ):\n",
    "        \n",
    "        # butler\n",
    "        raw = butler.get('raw', visit=int(imvisit), ccd=ccd)\n",
    "        \n",
    "        # get map for each data region (converted to int64)\n",
    "        data1 = raw.maskedImage[dbox1].getArrays()[0].astype(np.int64)\n",
    "        data2 = raw.maskedImage[dbox2].getArrays()[0].astype(np.int64)\n",
    "        data3 = raw.maskedImage[dbox3].getArrays()[0].astype(np.int64)\n",
    "        data4 = raw.maskedImage[dbox4].getArrays()[0].astype(np.int64)\n",
    "        \n",
    "        # get map for each horizontal overscan region (converted to int64)\n",
    "        overscan1 = raw.maskedImage[obox1].getArrays()[0].astype(np.int64)\n",
    "        overscan2 = raw.maskedImage[obox2].getArrays()[0].astype(np.int64)\n",
    "        overscan3 = raw.maskedImage[obox3].getArrays()[0].astype(np.int64)\n",
    "        overscan4 = raw.maskedImage[obox4].getArrays()[0].astype(np.int64)\n",
    "        \n",
    "        # rebin, log, subtract mean/median, rescale to std/mad, and rotate\n",
    "        ddownscale = 4\n",
    "        mdata = []\n",
    "        for data in [data1, data2, data3, data4]:\n",
    "            temp = np.log10(rebin(data, new_shape=tuple(np.array(data.shape)/ddownscale)))\n",
    "            temp -= np.median(temp)\n",
    "            temp /= mad(temp)\n",
    "            temp = np.rot90(temp)\n",
    "            mdata.append(temp)\n",
    "        \n",
    "        # rebin, subtract mean/median, rescale to std/mad, and rotate\n",
    "        odownscale = 24\n",
    "        moverscan = []\n",
    "        for overscan in [overscan1, overscan2, overscan3, overscan4]:\n",
    "            temp = rebin(overscan, new_shape=(np.array(overscan.shape)[0]/odownscale, np.array(overscan.shape)[1]))\n",
    "            temp -= np.median(temp)\n",
    "            temp /= mad(temp)\n",
    "            temp = np.rot90(temp)\n",
    "            moverscan.append(temp)\n",
    "        \n",
    "        # data plot setup\n",
    "        fig = plt.figure(constrained_layout=False, figsize=(13,6.5), dpi=300)\n",
    "        spec = plt.GridSpec(ncols=25, nrows=4, figure=fig)\n",
    "        ax1 = fig.add_subplot(spec[0, 0:-3])\n",
    "        ax2 = fig.add_subplot(spec[1, 0:-3])\n",
    "        ax3 = fig.add_subplot(spec[2, 0:-3])\n",
    "        ax4 = fig.add_subplot(spec[3, 0:-3])\n",
    "        ax0 = fig.add_subplot(spec[:, -1])\n",
    "        axs = [ax4, ax3, ax2, ax1]\n",
    "\n",
    "        # data plot plotting\n",
    "        for i, mod, orig in zip([0,1,2,3], mdata, [data1,data2,data3,data4]):\n",
    "            im = axs[i].imshow(mod, vmin=-devscale, vmax=devscale)\n",
    "            axs[i].set_axis_off()\n",
    "            axs[i].text(1.05, 0.5, \"amp %s\" % (i+1), \n",
    "                        horizontalalignment='center', verticalalignment='center', transform = axs[i].transAxes, \n",
    "                        fontsize=12, rotation=-90)\n",
    "            axs[i].text(1.03, 0.5, \"med = %.0f\" % np.median(orig), \n",
    "                        horizontalalignment='center', verticalalignment='center', transform = axs[i].transAxes, \n",
    "                        fontsize=8, rotation=-90)\n",
    "            axs[i].text(1.01, 0.5, \"log(MAD) = %.4f\" % mad(np.log10(orig)), \n",
    "                        horizontalalignment='center', verticalalignment='center', transform = axs[i].transAxes, \n",
    "                        fontsize=8, rotation=-90)\n",
    "\n",
    "        # colorbar\n",
    "        fig.colorbar(im, cax=ax0)\n",
    "        ax0.text(3, 0.5, \"log MAD offset from median\", \n",
    "                 horizontalalignment='center', verticalalignment='center', transform = ax0.transAxes, \n",
    "                 fontsize=14, rotation=-90)\n",
    "\n",
    "        # data plot finish up\n",
    "        fig.text(0.5, 0.91, \"CCD %s data: visit %s, filter %s\" % (ccd, imvisit, imfilter), \n",
    "                 horizontalalignment='center', verticalalignment='center', transform = fig.transFigure, \n",
    "                 fontsize=16)\n",
    "        fig.text(0.15, 0.09, \"y pixel position / %s ⟶\" % ddownscale, \n",
    "                 horizontalalignment='left', verticalalignment='center', transform = fig.transFigure, \n",
    "                 fontsize=14)\n",
    "        fig.text(0.11, 0.16, \"⟵ x pixel position / %s\" % ddownscale, \n",
    "                 horizontalalignment='center', verticalalignment='bottom', transform = fig.transFigure, \n",
    "                 fontsize=14, rotation=-90)\n",
    "        plt.savefig(doutname, dpi='figure')\n",
    "        plt.close(fig)\n",
    "        \n",
    "        # overscan plot setup\n",
    "        fig = plt.figure(constrained_layout=False, figsize=(13,11), dpi=300)\n",
    "        spec = plt.GridSpec(ncols=25, nrows=8, figure=fig)\n",
    "        ax1a = fig.add_subplot(spec[1, :-3])\n",
    "        ax1d = fig.add_subplot(spec[0, :-3])\n",
    "        ax1h = fig.add_subplot(spec[1, -3:-1])\n",
    "        ax2a = fig.add_subplot(spec[3, :-3])\n",
    "        ax2d = fig.add_subplot(spec[2, :-3])\n",
    "        ax2h = fig.add_subplot(spec[3, -3:-1])\n",
    "        ax3a = fig.add_subplot(spec[5, :-3])\n",
    "        ax3d = fig.add_subplot(spec[4, :-3])\n",
    "        ax3h = fig.add_subplot(spec[5, -3:-1])\n",
    "        ax4a = fig.add_subplot(spec[7, :-3])\n",
    "        ax4d = fig.add_subplot(spec[6, :-3])\n",
    "        ax4h = fig.add_subplot(spec[7, -3:-1])\n",
    "        ax0 = fig.add_subplot(spec[:, -1])\n",
    "        axsa = [ax4a, ax3a, ax2a, ax1a]\n",
    "        axsd = [ax4d, ax3d, ax2d, ax1d]\n",
    "        axsh = [ax4h, ax3h, ax2h, ax1h]\n",
    "\n",
    "        # overscan plot plotting\n",
    "        for i, mod, orig, over0, over1 in zip([0,1,2,3], moverscan, [overscan1,overscan2,overscan3,overscan4], \n",
    "                                              [overscan1[:, 0],overscan2[:, -1],overscan3[:, 0],overscan4[:, -1]], \n",
    "                                              [overscan1[:, -1],overscan2[:, 0],overscan3[:, -1],overscan4[:, 0]]\n",
    "                                             ):\n",
    "\n",
    "            # 2D plot\n",
    "            im = axsa[i].imshow(mod, vmin=-devscale, vmax=devscale)\n",
    "            axsa[i].set_axis_off()\n",
    "            axsa[i].text(0, 1.17, \"amp %s\" % (i+1), \n",
    "                         horizontalalignment='left', verticalalignment='center', transform = axsa[i].transAxes, \n",
    "                         fontsize=12, rotation=0)\n",
    "            axsa[i].text(0.075, 1.17, \"med = %.0f\" % np.median(orig), \n",
    "                         horizontalalignment='left', verticalalignment='center', transform = axsa[i].transAxes, \n",
    "                         fontsize=12, rotation=0)\n",
    "            axsa[i].text(0.205, 1.17, \"MAD = %.3f\" % mad(orig), \n",
    "                         horizontalalignment='left', verticalalignment='center', transform = axsa[i].transAxes, \n",
    "                         fontsize=12, rotation=0)\n",
    "\n",
    "            # delta overscan line plot\n",
    "            t0 = (over0 - np.median(orig)) / mad(orig)\n",
    "            t1 = (over1 - np.median(orig)) / mad(orig)\n",
    "            axsd[i].set_ylim([-3.5,3.5])\n",
    "            #axsd[i].yaxis.set_major_locator(plt.MaxNLocator(3))\n",
    "            axsd[i].set_yticks([-2,-1,0,1,2])\n",
    "            #axsd[i].set_yticklabels([])\n",
    "            axsd[i].yaxis.tick_right()\n",
    "            axsd[i].yaxis.set_ticks_position('none')\n",
    "            axsd[i].margins(x=0, y=0)\n",
    "            axsd[i].axes.get_xaxis().set_visible(False)\n",
    "            axsd[i].xaxis.set_ticks_position('none')\n",
    "            axsd[i].set_xticklabels([])\n",
    "            axsd[i].spines['top'].set_visible(False)\n",
    "            axsd[i].spines['bottom'].set_visible(False)\n",
    "            axsd[i].spines['left'].set_visible(False)\n",
    "            axsd[i].spines['right'].set_visible(False)\n",
    "            #axsd[i].plot(np.linspace(0, 1, num=len(over0)), over1-over0, color='#998ec3')\n",
    "            axsd[i].plot(np.linspace(0, 1, num=len(over0)), run_mean(t0-t1, k=odownscale+1), \n",
    "                         linewidth=3, color='#f1a340')\n",
    "            axsd[i].grid(color='grey', linestyle='dotted')\n",
    "            axsd[i].axhline(y=0, color='black')\n",
    "            axsd[i].tick_params(labelsize=8)\n",
    "            axsd[i].text(1.04, 0.5, \"Δₒ / MAD\", \n",
    "                         horizontalalignment='center', verticalalignment='center', transform = axsd[i].transAxes, \n",
    "                         fontsize=10, rotation=-90)\n",
    "\n",
    "            # collapsed 2D line plot\n",
    "            #axsh[i].axvline(x=0, color='black')\n",
    "            axsh[i].plot((np.mean(orig, axis=0) - np.median(orig)) / mad(orig), range(16), \n",
    "                         linewidth=5, color='#998ec3')\n",
    "            axsh[i].set_ylim([-1,16])\n",
    "            axsh[i].set_xlim([-2.5,2.5])\n",
    "            axsh[i].margins(x=0, y=0)\n",
    "            axsh[i].grid(color='grey', linestyle='dotted')\n",
    "            axsh[i].spines['top'].set_visible(False)\n",
    "            axsh[i].spines['bottom'].set_visible(False)\n",
    "            axsh[i].spines['left'].set_visible(False)\n",
    "            axsh[i].spines['right'].set_visible(False)\n",
    "            #axsh[i].set_xticklabels([])\n",
    "            #axsh[i].set_yticklabels([])\n",
    "            #axsh[i].yaxis.set_ticks_position('none')\n",
    "            #axsh[i].xaxis.set_major_locator(plt.MaxNLocator(3))\n",
    "            axsh[i].set_xticks([-2,-1,0,1,2])\n",
    "            #axsh[i].xaxis.tick_top()\n",
    "            axsh[i].xaxis.set_ticks_position('none')\n",
    "            axsh[i].axes.get_yaxis().set_visible(False)\n",
    "            axsh[i].tick_params(labelsize=8)\n",
    "            if i == 0:\n",
    "                axsh[i].text(0.5, -0.35, \"Σf / MAD\", \n",
    "                             horizontalalignment='center', verticalalignment='center', transform = axsh[i].transAxes, \n",
    "                             fontsize=10, rotation=0)\n",
    "\n",
    "        # colorbar\n",
    "        fig.colorbar(im, cax=ax0)\n",
    "        ax0.text(3, 0.5, \"MAD offset from median\", \n",
    "                 horizontalalignment='center', verticalalignment='center', transform = ax0.transAxes, \n",
    "                 fontsize=14, rotation=-90)\n",
    "\n",
    "        # overscan plot finish up\n",
    "        fig.text(0.5, 0.91, \"CCD %s overscan: visit %s, filter %s\" % (ccd, imvisit, imfilter), \n",
    "                 horizontalalignment='center', verticalalignment='center', transform = fig.transFigure, \n",
    "                 fontsize=16)\n",
    "        fig.text(0.14, 0.1, \"y pixel position / %s ⟶\" % odownscale, \n",
    "                 horizontalalignment='left', verticalalignment='center', transform = fig.transFigure, \n",
    "                 fontsize=14)\n",
    "        fig.text(0.105, 0.15, \"⟵ x pixel position\", \n",
    "                 horizontalalignment='center', verticalalignment='bottom', transform = fig.transFigure, \n",
    "                 fontsize=14, rotation=-90)\n",
    "        plt.savefig(ooutname, dpi='figure')\n",
    "        plt.close(fig)\n",
    "\n",
    "# finish up\n",
    "readme.close()"
   ]
  },
  {
   "cell_type": "code",
   "execution_count": 10,
   "metadata": {},
   "outputs": [
    {
     "name": "stdout",
     "output_type": "stream",
     "text": [
      "\u001b[1mall done!\u001b[0m\n"
     ]
    }
   ],
   "source": [
    "print(\"\\033[1mall done!\\033[0m\")"
   ]
  }
 ],
 "metadata": {
  "kernelspec": {
   "display_name": "Python 3",
   "language": "python",
   "name": "python3"
  },
  "language_info": {
   "codemirror_mode": {
    "name": "ipython",
    "version": 3
   },
   "file_extension": ".py",
   "mimetype": "text/x-python",
   "name": "python",
   "nbconvert_exporter": "python",
   "pygments_lexer": "ipython3",
   "version": "3.7.2"
  }
 },
 "nbformat": 4,
 "nbformat_minor": 2
}
