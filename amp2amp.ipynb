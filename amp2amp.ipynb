{
 "cells": [
  {
   "cell_type": "code",
   "execution_count": 1,
   "metadata": {},
   "outputs": [
    {
     "ename": "ModuleNotFoundError",
     "evalue": "No module named 'esutil'",
     "output_type": "error",
     "traceback": [
      "\u001b[0;31m---------------------------------------------------------------------------\u001b[0m",
      "\u001b[0;31mModuleNotFoundError\u001b[0m                       Traceback (most recent call last)",
      "\u001b[0;32m<ipython-input-1-22a64d0a19ad>\u001b[0m in \u001b[0;36m<module>\u001b[0;34m\u001b[0m\n\u001b[1;32m      4\u001b[0m \u001b[0;32mimport\u001b[0m \u001b[0mmatplotlib\u001b[0m\u001b[0;34m.\u001b[0m\u001b[0mpatches\u001b[0m \u001b[0;32mas\u001b[0m \u001b[0mmpatches\u001b[0m\u001b[0;34m\u001b[0m\u001b[0;34m\u001b[0m\u001b[0m\n\u001b[1;32m      5\u001b[0m \u001b[0;32mimport\u001b[0m \u001b[0mastropy\u001b[0m\u001b[0;34m.\u001b[0m\u001b[0mio\u001b[0m\u001b[0;34m.\u001b[0m\u001b[0mfits\u001b[0m \u001b[0;32mas\u001b[0m \u001b[0mfits\u001b[0m\u001b[0;34m\u001b[0m\u001b[0;34m\u001b[0m\u001b[0m\n\u001b[0;32m----> 6\u001b[0;31m \u001b[0;32mimport\u001b[0m \u001b[0mesutil\u001b[0m\u001b[0;34m\u001b[0m\u001b[0;34m\u001b[0m\u001b[0m\n\u001b[0m\u001b[1;32m      7\u001b[0m \u001b[0;34m\u001b[0m\u001b[0m\n\u001b[1;32m      8\u001b[0m \u001b[0;32mimport\u001b[0m \u001b[0mlsst\u001b[0m\u001b[0;34m.\u001b[0m\u001b[0mafw\u001b[0m\u001b[0;34m.\u001b[0m\u001b[0mmath\u001b[0m \u001b[0;32mas\u001b[0m \u001b[0mafwMath\u001b[0m\u001b[0;34m\u001b[0m\u001b[0;34m\u001b[0m\u001b[0m\n",
      "\u001b[0;31mModuleNotFoundError\u001b[0m: No module named 'esutil'"
     ]
    }
   ],
   "source": [
    "# imports\n",
    "import numpy as np\n",
    "import matplotlib.pyplot as plt\n",
    "import matplotlib.patches as mpatches\n",
    "import astropy.io.fits as fits\n",
    "import esutil\n",
    "\n",
    "import lsst.afw.math as afwMath\n",
    "import lsst.daf.persistence as dafPersist"
   ]
  },
  {
   "cell_type": "code",
   "execution_count": null,
   "metadata": {},
   "outputs": [],
   "source": [
    "# CCD selection\n",
    "ccd = 43"
   ]
  },
  {
   "cell_type": "code",
   "execution_count": null,
   "metadata": {},
   "outputs": [],
   "source": [
    "# butler\n",
    "butlerVisit = dafPersist.Butler(\n",
    "    '/datasets/hsc/repo/rerun/private/erykoff/fgcm_pdr1_run1wd/wide_deep2'\n",
    ")\n",
    "obsTable = butlerVisit.get(\n",
    "    'fgcmVisitCatalog'\n",
    ")\n",
    "butler = dafPersist.Butler(\n",
    "    '/datasets/hsc/repo/rerun/private/erykoff/hscproc/runIsrPDR1'\n",
    ")"
   ]
  },
  {
   "cell_type": "code",
   "execution_count": null,
   "metadata": {},
   "outputs": [],
   "source": [
    "# define amps\n",
    "camera = butler.get('camera')\n",
    "det = camera[ccd]\n",
    "amp1, amp2, amp3, amp4 = det.getAmplifiers()"
   ]
  },
  {
   "cell_type": "code",
   "execution_count": null,
   "metadata": {},
   "outputs": [],
   "source": [
    "# raw data bounding boxes\n",
    "abox1 = amp1.getRawDataBBox()\n",
    "abox2 = amp2.getRawDataBBox()\n",
    "abox3 = amp3.getRawDataBBox()\n",
    "abox4 = amp4.getRawDataBBox()"
   ]
  },
  {
   "cell_type": "code",
   "execution_count": null,
   "metadata": {},
   "outputs": [],
   "source": [
    "# overscan bounding boxes\n",
    "obox1 = amp1.getRawHorizontalOverscanBBox()\n",
    "obox2 = amp2.getRawHorizontalOverscanBBox()\n",
    "obox3 = amp3.getRawHorizontalOverscanBBox()\n",
    "obox4 = amp4.getRawHorizontalOverscanBBox()"
   ]
  },
  {
   "cell_type": "code",
   "execution_count": null,
   "metadata": {},
   "outputs": [],
   "source": [
    "# bounding box plot\n",
    "%matplotlib inline\n",
    "%config InlineBackend.figure_format = 'svg'\n",
    "plt.rcParams['figure.figsize'] = (11,5)\n",
    "plt.rcParams.update({'font.size': 14})\n",
    "plt.suptitle('Bounding Boxes')\n",
    "plt.title('purple = horizontal overscan, orange = data', fontsize=10)\n",
    "plt.xlabel('x pixel position', fontsize=14)\n",
    "plt.ylabel('y pixel position', fontsize=14)\n",
    "\n",
    "# corners\n",
    "allocorners = np.array([obox1.getCorners(), obox2.getCorners(), obox3.getCorners(), obox4.getCorners()])\n",
    "allacorners = np.array([abox1.getCorners(), abox2.getCorners(), abox3.getCorners(), abox4.getCorners()])\n",
    "\n",
    "# raw data vertices\n",
    "for acorners in allacorners:\n",
    "    x = [i[0] for i in acorners]\n",
    "    y = [i[1] for i in acorners]\n",
    "    x.append(x[0])\n",
    "    y.append(y[0])\n",
    "    abbox = plt.plot(x, y, color='#f1a340', label='data')\n",
    "# overscan vertices\n",
    "for ocorners in allocorners:\n",
    "    x = [i[0] for i in ocorners]\n",
    "    y = [i[1] for i in ocorners]\n",
    "    x.append(x[0])\n",
    "    y.append(y[0])\n",
    "    obbox = plt.plot(x, y, color='#998ec3', label='horiz. overscan')\n",
    "\n",
    "# finish up\n",
    "#plt.legend(loc='upper center', fontsize=10, ncol=2)\n",
    "plt.show()"
   ]
  },
  {
   "cell_type": "code",
   "execution_count": null,
   "metadata": {},
   "outputs": [],
   "source": [
    "# bounding box plot\n",
    "%matplotlib inline\n",
    "%config InlineBackend.figure_format = 'svg'\n",
    "plt.figure(figsize=(11, 5))\n",
    "#plt.axis('equal')\n",
    "plt.rcParams.update({'font.size': 14})\n",
    "plt.suptitle('Bounding Boxes')\n",
    "plt.title('purple = horizontal overscan, orange = data', fontsize=10)\n",
    "plt.xlabel('x pixel position', fontsize=14)\n",
    "plt.ylabel('y pixel position', fontsize=14)\n",
    "\n",
    "# corners\n",
    "allocorners = np.array([obox1.getCorners(), obox2.getCorners(), obox3.getCorners(), obox4.getCorners()])\n",
    "allacorners = np.array([abox1.getCorners(), abox2.getCorners(), abox3.getCorners(), abox4.getCorners()])\n",
    "\n",
    "# raw data vertices\n",
    "for acorners in allacorners:\n",
    "    x = [i[0] for i in acorners]\n",
    "    y = [i[1] for i in acorners]\n",
    "    plt.fill(x, y, color='#f1a340', alpha=0.85)\n",
    "# overscan vertices\n",
    "for ocorners in allocorners:\n",
    "    x = [i[0] for i in ocorners]\n",
    "    y = [i[1] for i in ocorners]\n",
    "    plt.fill(x, y, color='#998ec3', alpha=0.85)\n",
    "\n",
    "# finish up\n",
    "plt.show()"
   ]
  },
  {
   "cell_type": "code",
   "execution_count": null,
   "metadata": {},
   "outputs": [],
   "source": [
    "# band selection [all|g|r|i|z|y]\n",
    "band = 'all'"
   ]
  },
  {
   "cell_type": "code",
   "execution_count": null,
   "metadata": {
    "scrolled": false
   },
   "outputs": [],
   "source": [
    "# obsTable data\n",
    "filtername = [d['filtername'] for d in np.asarray(obsTable)]\n",
    "if band != 'all': \n",
    "    goodfilters = [i for i,s in enumerate(filtername) if band in s]\n",
    "    filtername = np.asarray(filtername)[goodfilters]\n",
    "else: \n",
    "    goodfilters = range(len(filtername))\n",
    "visits = obsTable['visit'][goodfilters]\n",
    "exptime = obsTable['exptime'][goodfilters]\n",
    "skybackground = obsTable['skybackground'][goodfilters]\n",
    "ufname,ufcount = np.unique(filtername, return_counts=True)\n",
    "print('\\033[1m')\n",
    "print('Number of visits:', visits.size)\n",
    "print('Number of visits by filter:', dict(zip(ufname,ufcount)))\n",
    "print('Number of pixel rows:', abox1.getHeight())\n",
    "print('\\033[0m')"
   ]
  },
  {
   "cell_type": "code",
   "execution_count": null,
   "metadata": {},
   "outputs": [],
   "source": [
    "# exposure time hisogram\n",
    "%matplotlib inline\n",
    "%config InlineBackend.figure_format = 'svg'\n",
    "plt.rcParams['figure.figsize'] = (11,5)\n",
    "plt.rcParams.update({'font.size': 14})\n",
    "plt.title('Exposure Times')\n",
    "plt.xlabel('time / minutes', fontsize=14)\n",
    "plt.ylabel('frequency', fontsize=14)\n",
    "plt.xticks(np.arange(0, max(exptime) + 60, 60), np.arange(0, (max(exptime) + 60)/60, 1, dtype='i'))\n",
    "binwidth = 10\n",
    "plt.hist(exptime, bins=np.arange(0, max(exptime) + binwidth, binwidth), color='#f1a340', edgecolor='white')\n",
    "plt.annotate('filter: ' + band, xy=(0.15,0.85), xycoords='figure fraction', ha='center')\n",
    "plt.show()"
   ]
  },
  {
   "cell_type": "code",
   "execution_count": null,
   "metadata": {
    "scrolled": false
   },
   "outputs": [],
   "source": [
    "# sky background hisogram\n",
    "%matplotlib inline\n",
    "%config InlineBackend.figure_format = 'svg'\n",
    "plt.rcParams['figure.figsize'] = (11,5)\n",
    "plt.rcParams.update({'font.size': 14})\n",
    "plt.title('Sky Background')\n",
    "plt.xlabel('background level', fontsize=14)\n",
    "plt.ylabel('frequency', fontsize=14)\n",
    "#plt.xticks(np.arange(0, max(skybackground) + 60, 60), np.arange(0, (max(skybackground) + 60)/60, 1, dtype='i'))\n",
    "plt.yscale('log', nonposy='clip')\n",
    "binwidth = 500\n",
    "plt.hist(skybackground, bins=np.arange(0, max(skybackground) + binwidth, binwidth), color='#f1a340', edgecolor='white')\n",
    "plt.annotate('filter: ' + band, xy=(0.9,0.85), xycoords='figure fraction', ha='center')\n",
    "plt.show()"
   ]
  },
  {
   "cell_type": "code",
   "execution_count": null,
   "metadata": {},
   "outputs": [],
   "source": [
    "# catalogue, set up a numpy array, one entry for each visit, containing 9 named fields\n",
    "cat = np.zeros(visits.size, dtype=[('amp1b', 'i4', (abox1.getHeight(), 5)),\n",
    "                                   ('amp2a', 'i4', (abox2.getHeight(), 5)),\n",
    "                                   ('amp3b', 'i4', (abox3.getHeight(), 5)),\n",
    "                                   ('amp4a', 'i4', (abox4.getHeight(), 5)),\n",
    "                                   ('overscan1', 'i4', (obox1.getHeight(), 2)),\n",
    "                                   ('overscan2', 'i4', (obox2.getHeight(), 2)),\n",
    "                                   ('overscan3', 'i4', (obox3.getHeight(), 2)),\n",
    "                                   ('overscan4', 'i4', (obox4.getHeight(), 2)),\n",
    "                                   ('visit', 'i4'),\n",
    "                                   ('filtername', 'U1'),\n",
    "                                   ('exptime', 'i4'),\n",
    "                                   ('skybackground', 'i4')\n",
    "                                  ])\n",
    "cat['visit'][:] = visits\n",
    "cat['filtername'][:] = filtername\n",
    "cat['exptime'][:] = exptime\n",
    "cat['skybackground'][:] = skybackground"
   ]
  },
  {
   "cell_type": "code",
   "execution_count": null,
   "metadata": {},
   "outputs": [],
   "source": [
    "# temp\n",
    "#for i,v in enumerate(visits):\n",
    "for i, v in enumerate(visits[:101]):\n",
    "    \n",
    "    # counter\n",
    "    if (i % 50) == 0:\n",
    "        print('On %d of %d' % (i, visits.size))\n",
    "    \n",
    "    # try to use butler to get raw data\n",
    "    try:\n",
    "        raw = butler.get('raw', visit=int(visits[i]), ccd=ccd)\n",
    "    except:\n",
    "        continue\n",
    "    \n",
    "    overscan1 = raw.maskedImage[obox1].getArrays()[0].astype(np.int64)\n",
    "    overscan2 = raw.maskedImage[obox2].getArrays()[0].astype(np.int64)\n",
    "    overscan3 = raw.maskedImage[obox3].getArrays()[0].astype(np.int64)\n",
    "    overscan4 = raw.maskedImage[obox4].getArrays()[0].astype(np.int64)\n",
    "    \n",
    "    data1 = raw.maskedImage[abox1].getArrays()[0].astype(np.int64)\n",
    "    data2 = raw.maskedImage[abox2].getArrays()[0].astype(np.int64)\n",
    "    data3 = raw.maskedImage[abox3].getArrays()[0].astype(np.int64)\n",
    "    data4 = raw.maskedImage[abox4].getArrays()[0].astype(np.int64)\n",
    "    \n",
    "    cat['amp1b'][i, :] = data1[:, -5: ]\n",
    "    cat['amp2a'][i, :] = data2[:, 0: 5]\n",
    "    cat['amp3b'][i, :] = data3[:, -5: ]\n",
    "    cat['amp4a'][i, :] = data4[:, 0: 5]\n",
    "    \n",
    "    cat['overscan1'][i, :, 0] = overscan1[:, 0]\n",
    "    cat['overscan1'][i, :, 1] = overscan1[:, -1]\n",
    "    cat['overscan2'][i, :, 0] = overscan2[:, -1]\n",
    "    cat['overscan2'][i, :, 1] = overscan2[:, 0]\n",
    "    cat['overscan3'][i, :, 0] = overscan3[:, 0]\n",
    "    cat['overscan3'][i, :, 1] = overscan3[:, -1]\n",
    "    cat['overscan4'][i, :, 0] = overscan4[:, -1]\n",
    "    cat['overscan4'][i, :, 1] = overscan4[:, 0]\n",
    "\n",
    "fits.writeto('test_last5pix_ccd%03d.fits' % (ccd), cat, overwrite=True)"
   ]
  },
  {
   "cell_type": "code",
   "execution_count": null,
   "metadata": {},
   "outputs": [],
   "source": []
  }
 ],
 "metadata": {
  "kernelspec": {
   "display_name": "Python 3",
   "language": "python",
   "name": "python3"
  },
  "language_info": {
   "codemirror_mode": {
    "name": "ipython",
    "version": 3
   },
   "file_extension": ".py",
   "mimetype": "text/x-python",
   "name": "python",
   "nbconvert_exporter": "python",
   "pygments_lexer": "ipython3",
   "version": "3.7.2"
  }
 },
 "nbformat": 4,
 "nbformat_minor": 2
}
